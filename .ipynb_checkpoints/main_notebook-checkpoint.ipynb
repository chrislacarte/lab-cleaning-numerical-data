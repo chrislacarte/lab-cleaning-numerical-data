{
 "cells": [
  {
   "cell_type": "markdown",
   "metadata": {},
   "source": [
    "## TOC:\n",
    "* [Lab | Cleaning numerical data](#first-bullet)\n",
    "* [Lab | Cleaning categorical data](#second-bullet)\n",
    "* [Lab | Feature extraction](#third-bullet)\n"
   ]
  },
  {
   "cell_type": "markdown",
   "metadata": {},
   "source": [
    "## Lab | Cleaning numerical data <a class=\"anchor\" id=\"first-bullet\"></a>"
   ]
  },
  {
   "cell_type": "markdown",
   "metadata": {},
   "source": [
    "## Context\n",
    "\n",
    "An auto insurance company has collected some data about its customers including their _demographics_, _education_, _employment_, _policy details_, _vehicle information_ on which insurance policy is, and _claim amounts_. You will help the senior management with some business questions that will help them to better understand their customers, improve their services, and improve profitability.\n",
    "\n",
    "**Some business Objectives**:\n",
    "\n",
    "- Retain customers,\n",
    "- Analyze relevant customer data,\n",
    "- Develop focused customer retention programs.\n",
    "\n",
    "Based on the analysis, we will take targeted actions to increase profitable customer response, retention, and growth.\n"
   ]
  },
  {
   "cell_type": "markdown",
   "metadata": {},
   "source": [
    "1. Import the necessary libraries."
   ]
  },
  {
   "cell_type": "code",
   "execution_count": 2,
   "metadata": {},
   "outputs": [],
   "source": [
    "import pandas as pd\n",
    "import seaborn as sns\n",
    "import matplotlib.pyplot as plt\n",
    "import numpy as np\n",
    "from sklearn.preprocessing import MinMaxScaler \n",
    "from sklearn.preprocessing import StandardScaler\n",
    "from sklearn.preprocessing import LabelEncoder\n",
    "from sklearn.preprocessing import OneHotEncoder\n",
    "from sklearn.preprocessing import OrdinalEncoder\n",
    "from sklearn import linear_model\n",
    "from sklearn.model_selection import train_test_split"
   ]
  },
  {
   "cell_type": "markdown",
   "metadata": {},
   "source": [
    "2. Load the we_fn_use_c_marketing_customer_value_analysis.csv into the variable customer_df\n",
    "\n"
   ]
  },
  {
   "cell_type": "code",
   "execution_count": 3,
   "metadata": {},
   "outputs": [],
   "source": [
    "customer_df = pd.read_csv('files_for_lab/we_fn_use_c_marketing_customer_value_analysis.csv')\n"
   ]
  },
  {
   "cell_type": "markdown",
   "metadata": {},
   "source": [
    "3. First look at its main features (head, shape, info).\n",
    "\n"
   ]
  },
  {
   "cell_type": "code",
   "execution_count": 4,
   "metadata": {},
   "outputs": [
    {
     "data": {
      "text/plain": [
       "(9134, 24)"
      ]
     },
     "metadata": {},
     "output_type": "display_data"
    },
    {
     "data": {
      "text/html": [
       "<div>\n",
       "<style scoped>\n",
       "    .dataframe tbody tr th:only-of-type {\n",
       "        vertical-align: middle;\n",
       "    }\n",
       "\n",
       "    .dataframe tbody tr th {\n",
       "        vertical-align: top;\n",
       "    }\n",
       "\n",
       "    .dataframe thead th {\n",
       "        text-align: right;\n",
       "    }\n",
       "</style>\n",
       "<table border=\"1\" class=\"dataframe\">\n",
       "  <thead>\n",
       "    <tr style=\"text-align: right;\">\n",
       "      <th></th>\n",
       "      <th>Customer</th>\n",
       "      <th>State</th>\n",
       "      <th>Customer Lifetime Value</th>\n",
       "      <th>Response</th>\n",
       "      <th>Coverage</th>\n",
       "      <th>Education</th>\n",
       "      <th>Effective To Date</th>\n",
       "      <th>EmploymentStatus</th>\n",
       "      <th>Gender</th>\n",
       "      <th>Income</th>\n",
       "      <th>...</th>\n",
       "      <th>Months Since Policy Inception</th>\n",
       "      <th>Number of Open Complaints</th>\n",
       "      <th>Number of Policies</th>\n",
       "      <th>Policy Type</th>\n",
       "      <th>Policy</th>\n",
       "      <th>Renew Offer Type</th>\n",
       "      <th>Sales Channel</th>\n",
       "      <th>Total Claim Amount</th>\n",
       "      <th>Vehicle Class</th>\n",
       "      <th>Vehicle Size</th>\n",
       "    </tr>\n",
       "  </thead>\n",
       "  <tbody>\n",
       "    <tr>\n",
       "      <th>0</th>\n",
       "      <td>BU79786</td>\n",
       "      <td>Washington</td>\n",
       "      <td>2763.519279</td>\n",
       "      <td>No</td>\n",
       "      <td>Basic</td>\n",
       "      <td>Bachelor</td>\n",
       "      <td>2/24/11</td>\n",
       "      <td>Employed</td>\n",
       "      <td>F</td>\n",
       "      <td>56274</td>\n",
       "      <td>...</td>\n",
       "      <td>5</td>\n",
       "      <td>0</td>\n",
       "      <td>1</td>\n",
       "      <td>Corporate Auto</td>\n",
       "      <td>Corporate L3</td>\n",
       "      <td>Offer1</td>\n",
       "      <td>Agent</td>\n",
       "      <td>384.811147</td>\n",
       "      <td>Two-Door Car</td>\n",
       "      <td>Medsize</td>\n",
       "    </tr>\n",
       "    <tr>\n",
       "      <th>1</th>\n",
       "      <td>QZ44356</td>\n",
       "      <td>Arizona</td>\n",
       "      <td>6979.535903</td>\n",
       "      <td>No</td>\n",
       "      <td>Extended</td>\n",
       "      <td>Bachelor</td>\n",
       "      <td>1/31/11</td>\n",
       "      <td>Unemployed</td>\n",
       "      <td>F</td>\n",
       "      <td>0</td>\n",
       "      <td>...</td>\n",
       "      <td>42</td>\n",
       "      <td>0</td>\n",
       "      <td>8</td>\n",
       "      <td>Personal Auto</td>\n",
       "      <td>Personal L3</td>\n",
       "      <td>Offer3</td>\n",
       "      <td>Agent</td>\n",
       "      <td>1131.464935</td>\n",
       "      <td>Four-Door Car</td>\n",
       "      <td>Medsize</td>\n",
       "    </tr>\n",
       "    <tr>\n",
       "      <th>2</th>\n",
       "      <td>AI49188</td>\n",
       "      <td>Nevada</td>\n",
       "      <td>12887.431650</td>\n",
       "      <td>No</td>\n",
       "      <td>Premium</td>\n",
       "      <td>Bachelor</td>\n",
       "      <td>2/19/11</td>\n",
       "      <td>Employed</td>\n",
       "      <td>F</td>\n",
       "      <td>48767</td>\n",
       "      <td>...</td>\n",
       "      <td>38</td>\n",
       "      <td>0</td>\n",
       "      <td>2</td>\n",
       "      <td>Personal Auto</td>\n",
       "      <td>Personal L3</td>\n",
       "      <td>Offer1</td>\n",
       "      <td>Agent</td>\n",
       "      <td>566.472247</td>\n",
       "      <td>Two-Door Car</td>\n",
       "      <td>Medsize</td>\n",
       "    </tr>\n",
       "    <tr>\n",
       "      <th>3</th>\n",
       "      <td>WW63253</td>\n",
       "      <td>California</td>\n",
       "      <td>7645.861827</td>\n",
       "      <td>No</td>\n",
       "      <td>Basic</td>\n",
       "      <td>Bachelor</td>\n",
       "      <td>1/20/11</td>\n",
       "      <td>Unemployed</td>\n",
       "      <td>M</td>\n",
       "      <td>0</td>\n",
       "      <td>...</td>\n",
       "      <td>65</td>\n",
       "      <td>0</td>\n",
       "      <td>7</td>\n",
       "      <td>Corporate Auto</td>\n",
       "      <td>Corporate L2</td>\n",
       "      <td>Offer1</td>\n",
       "      <td>Call Center</td>\n",
       "      <td>529.881344</td>\n",
       "      <td>SUV</td>\n",
       "      <td>Medsize</td>\n",
       "    </tr>\n",
       "    <tr>\n",
       "      <th>4</th>\n",
       "      <td>HB64268</td>\n",
       "      <td>Washington</td>\n",
       "      <td>2813.692575</td>\n",
       "      <td>No</td>\n",
       "      <td>Basic</td>\n",
       "      <td>Bachelor</td>\n",
       "      <td>2/3/11</td>\n",
       "      <td>Employed</td>\n",
       "      <td>M</td>\n",
       "      <td>43836</td>\n",
       "      <td>...</td>\n",
       "      <td>44</td>\n",
       "      <td>0</td>\n",
       "      <td>1</td>\n",
       "      <td>Personal Auto</td>\n",
       "      <td>Personal L1</td>\n",
       "      <td>Offer1</td>\n",
       "      <td>Agent</td>\n",
       "      <td>138.130879</td>\n",
       "      <td>Four-Door Car</td>\n",
       "      <td>Medsize</td>\n",
       "    </tr>\n",
       "  </tbody>\n",
       "</table>\n",
       "<p>5 rows × 24 columns</p>\n",
       "</div>"
      ],
      "text/plain": [
       "  Customer       State  Customer Lifetime Value Response  Coverage Education  \\\n",
       "0  BU79786  Washington              2763.519279       No     Basic  Bachelor   \n",
       "1  QZ44356     Arizona              6979.535903       No  Extended  Bachelor   \n",
       "2  AI49188      Nevada             12887.431650       No   Premium  Bachelor   \n",
       "3  WW63253  California              7645.861827       No     Basic  Bachelor   \n",
       "4  HB64268  Washington              2813.692575       No     Basic  Bachelor   \n",
       "\n",
       "  Effective To Date EmploymentStatus Gender  Income  ...  \\\n",
       "0           2/24/11         Employed      F   56274  ...   \n",
       "1           1/31/11       Unemployed      F       0  ...   \n",
       "2           2/19/11         Employed      F   48767  ...   \n",
       "3           1/20/11       Unemployed      M       0  ...   \n",
       "4            2/3/11         Employed      M   43836  ...   \n",
       "\n",
       "  Months Since Policy Inception Number of Open Complaints  Number of Policies  \\\n",
       "0                             5                         0                   1   \n",
       "1                            42                         0                   8   \n",
       "2                            38                         0                   2   \n",
       "3                            65                         0                   7   \n",
       "4                            44                         0                   1   \n",
       "\n",
       "      Policy Type        Policy  Renew Offer Type  Sales Channel  \\\n",
       "0  Corporate Auto  Corporate L3            Offer1          Agent   \n",
       "1   Personal Auto   Personal L3            Offer3          Agent   \n",
       "2   Personal Auto   Personal L3            Offer1          Agent   \n",
       "3  Corporate Auto  Corporate L2            Offer1    Call Center   \n",
       "4   Personal Auto   Personal L1            Offer1          Agent   \n",
       "\n",
       "  Total Claim Amount  Vehicle Class Vehicle Size  \n",
       "0         384.811147   Two-Door Car      Medsize  \n",
       "1        1131.464935  Four-Door Car      Medsize  \n",
       "2         566.472247   Two-Door Car      Medsize  \n",
       "3         529.881344            SUV      Medsize  \n",
       "4         138.130879  Four-Door Car      Medsize  \n",
       "\n",
       "[5 rows x 24 columns]"
      ]
     },
     "metadata": {},
     "output_type": "display_data"
    },
    {
     "name": "stdout",
     "output_type": "stream",
     "text": [
      "<class 'pandas.core.frame.DataFrame'>\n",
      "RangeIndex: 9134 entries, 0 to 9133\n",
      "Data columns (total 24 columns):\n",
      " #   Column                         Non-Null Count  Dtype  \n",
      "---  ------                         --------------  -----  \n",
      " 0   Customer                       9134 non-null   object \n",
      " 1   State                          9134 non-null   object \n",
      " 2   Customer Lifetime Value        9134 non-null   float64\n",
      " 3   Response                       9134 non-null   object \n",
      " 4   Coverage                       9134 non-null   object \n",
      " 5   Education                      9134 non-null   object \n",
      " 6   Effective To Date              9134 non-null   object \n",
      " 7   EmploymentStatus               9134 non-null   object \n",
      " 8   Gender                         9134 non-null   object \n",
      " 9   Income                         9134 non-null   int64  \n",
      " 10  Location Code                  9134 non-null   object \n",
      " 11  Marital Status                 9134 non-null   object \n",
      " 12  Monthly Premium Auto           9134 non-null   int64  \n",
      " 13  Months Since Last Claim        9134 non-null   int64  \n",
      " 14  Months Since Policy Inception  9134 non-null   int64  \n",
      " 15  Number of Open Complaints      9134 non-null   int64  \n",
      " 16  Number of Policies             9134 non-null   int64  \n",
      " 17  Policy Type                    9134 non-null   object \n",
      " 18  Policy                         9134 non-null   object \n",
      " 19  Renew Offer Type               9134 non-null   object \n",
      " 20  Sales Channel                  9134 non-null   object \n",
      " 21  Total Claim Amount             9134 non-null   float64\n",
      " 22  Vehicle Class                  9134 non-null   object \n",
      " 23  Vehicle Size                   9134 non-null   object \n",
      "dtypes: float64(2), int64(6), object(16)\n",
      "memory usage: 1.7+ MB\n"
     ]
    },
    {
     "data": {
      "text/plain": [
       "None"
      ]
     },
     "metadata": {},
     "output_type": "display_data"
    }
   ],
   "source": [
    "display(customer_df.shape)\n",
    "display(customer_df.head())\n",
    "display(customer_df.info())\n"
   ]
  },
  {
   "cell_type": "markdown",
   "metadata": {},
   "source": [
    "The data has no NaN values"
   ]
  },
  {
   "cell_type": "markdown",
   "metadata": {},
   "source": [
    "4. Rename the columns so they follow the PE8 (snake case) (lower_case_with_underscores)\n",
    "\n"
   ]
  },
  {
   "cell_type": "code",
   "execution_count": 5,
   "metadata": {},
   "outputs": [],
   "source": [
    "customer_df.columns = customer_df.columns.str.replace(' ','_')\n",
    "customer_df.columns = customer_df.columns.str.lower()"
   ]
  },
  {
   "cell_type": "markdown",
   "metadata": {},
   "source": [
    "5. Change effective to date column to datetime format.\n",
    "\n"
   ]
  },
  {
   "cell_type": "code",
   "execution_count": 6,
   "metadata": {},
   "outputs": [
    {
     "data": {
      "text/plain": [
       "customer                                 object\n",
       "state                                    object\n",
       "customer_lifetime_value                 float64\n",
       "response                                 object\n",
       "coverage                                 object\n",
       "education                                object\n",
       "effective_to_date                datetime64[ns]\n",
       "employmentstatus                         object\n",
       "gender                                   object\n",
       "income                                    int64\n",
       "location_code                            object\n",
       "marital_status                           object\n",
       "monthly_premium_auto                      int64\n",
       "months_since_last_claim                   int64\n",
       "months_since_policy_inception             int64\n",
       "number_of_open_complaints                 int64\n",
       "number_of_policies                        int64\n",
       "policy_type                              object\n",
       "policy                                   object\n",
       "renew_offer_type                         object\n",
       "sales_channel                            object\n",
       "total_claim_amount                      float64\n",
       "vehicle_class                            object\n",
       "vehicle_size                             object\n",
       "dtype: object"
      ]
     },
     "execution_count": 6,
     "metadata": {},
     "output_type": "execute_result"
    }
   ],
   "source": [
    "customer_df['effective_to_date']=pd.to_datetime(customer_df['effective_to_date'])   #changing the type of the column to datetime \n",
    "customer_df.dtypes"
   ]
  },
  {
   "cell_type": "code",
   "execution_count": 7,
   "metadata": {},
   "outputs": [
    {
     "data": {
      "text/plain": [
       "<AxesSubplot:>"
      ]
     },
     "execution_count": 7,
     "metadata": {},
     "output_type": "execute_result"
    },
    {
     "data": {
      "image/png": "[encoded data removed]",
      "text/plain": [
       "<Figure size 432x288 with 2 Axes>"
      ]
     },
     "metadata": {
      "needs_background": "light"
     },
     "output_type": "display_data"
    }
   ],
   "source": [
    "sns.heatmap(customer_df.corr(),annot=True)"
   ]
  },
  {
   "cell_type": "markdown",
   "metadata": {},
   "source": [
    "We observe no Multicolinearity."
   ]
  },
  {
   "cell_type": "code",
   "execution_count": 8,
   "metadata": {},
   "outputs": [],
   "source": [
    "# X , y split\n",
    "X = customer_df.drop(['total_claim_amount'], axis=1)\n",
    "y = customer_df['total_claim_amount']\n",
    "\n",
    "X.select_dtypes(include=['object'])"
   ]
  },
  {
   "cell_type": "code",
   "execution_count": 9,
   "metadata": {},
   "outputs": [],
   "source": [
    "# Train-test split\n",
    "X_train, X_test, y_train, y_test = train_test_split(X, y)"
   ]
  },
  {
   "cell_type": "markdown",
   "metadata": {},
   "source": [
    "We are goint to define a function that differentiates between continuous and discrete variables. The number of unique values will be useful. We will store continuous data into a continuous_df variable and do the same for discrete_df\n",
    "\n"
   ]
  },
  {
   "cell_type": "code",
   "execution_count": 10,
   "metadata": {
    "scrolled": true
   },
   "outputs": [
    {
     "name": "stdout",
     "output_type": "stream",
     "text": [
      "customer_lifetime_value          6069\n",
      "income                           4344\n",
      "monthly_premium_auto              190\n",
      "months_since_last_claim            36\n",
      "months_since_policy_inception     100\n",
      "number_of_open_complaints           6\n",
      "number_of_policies                  9\n",
      "dtype: int64\n",
      "-------\n",
      "customer_lifetime_value          2160\n",
      "income                           1581\n",
      "monthly_premium_auto              146\n",
      "months_since_last_claim            36\n",
      "months_since_policy_inception     100\n",
      "number_of_open_complaints           6\n",
      "number_of_policies                  9\n",
      "dtype: int64\n"
     ]
    }
   ],
   "source": [
    "#SPLIT NUMERICAL:\n",
    "#TRAIN ++++++++++++++++++++++++++++++++++++++++++++++++++++++\n",
    "X_train_num = X_train._get_numeric_data()\n",
    "print(X_train_num.nunique())\n",
    "print(\"-------\")\n",
    "#TEST +++++++++++++++++++++++++++++++++++++++++++++++++++++++\n",
    "X_test_num = X_test._get_numeric_data()\n",
    "print(X_test_num.nunique())"
   ]
  },
  {
   "cell_type": "code",
   "execution_count": 11,
   "metadata": {},
   "outputs": [],
   "source": [
    "#We can say discrete vbles are the ones whose range is higher than 100\n",
    "def cont_discr(df):\n",
    "    discrete = []\n",
    "    continuous = []\n",
    "    for col in df:\n",
    "        if df[col].nunique() <= 100:\n",
    "            discrete.append(col)\n",
    "        else:\n",
    "            continuous.append(col)\n",
    "    return discrete,continuous"
   ]
  },
  {
   "cell_type": "code",
   "execution_count": 12,
   "metadata": {},
   "outputs": [],
   "source": [
    "col_list = cont_discr(X_train_num)"
   ]
  },
  {
   "cell_type": "code",
   "execution_count": 13,
   "metadata": {},
   "outputs": [],
   "source": [
    "#We select the columns to create a DF with only dicrete variables: \n",
    "\n",
    "#TRAIN ++++++++++++++++++++++++++++++++++++++++++++++++++++++\n",
    "# df = pd.DataFrame(list_values, columns=list_columns)\n",
    "X_train_num_dis = X_train_num[col_list[0]]\n",
    "X_train_num_dis = X_train_num_dis.reset_index().drop([\"index\"], axis=1)\n",
    "#TEST +++++++++++++++++++++++++++++++++++++++++++++++++++++++\n",
    "X_test_num_dis = X_test_num[col_list[0]]\n",
    "X_test_num_dis = X_test_num_dis.reset_index().drop([\"index\"], axis=1)"
   ]
  },
  {
   "cell_type": "code",
   "execution_count": 14,
   "metadata": {},
   "outputs": [],
   "source": [
    "#We select the columns to create a DF with only continuous variables:\n",
    "\n",
    "#TRAIN ++++++++++++++++++++++++++++++++++++++++++++++++++++++\n",
    "X_train_num_con = X_train_num.drop(columns = col_list[0], axis=1)\n",
    "X_train_num_con = X_train_num_con.reset_index()\n",
    "X_train_num_con = X_train_num_con.reset_index().drop([\"level_0\",'index'], axis=1)\n",
    "#TEST +++++++++++++++++++++++++++++++++++++++++++++++++++++++\n",
    "X_test_num_con = X_test_num.drop(columns = col_list[0], axis=1)\n",
    "X_test_num_con = X_test_num_con.reset_index()\n",
    "X_test_num_con = X_test_num_con.reset_index().drop([\"level_0\",'index'], axis=1)"
   ]
  },
  {
   "cell_type": "markdown",
   "metadata": {},
   "source": [
    "8. Create a function to plot every discrete variable.  Do the same with the continuous variables (Be Careful, you may need to change the plot type to one better suited for continuous data!)\n",
    "\n",
    "I will carry this analysis just with the train set as the plots will serve to define both train and test sets "
   ]
  },
  {
   "cell_type": "code",
   "execution_count": 15,
   "metadata": {},
   "outputs": [
    {
     "name": "stdout",
     "output_type": "stream",
     "text": [
      "months_since_last_claim\n"
     ]
    },
    {
     "name": "stderr",
     "output_type": "stream",
     "text": [
      "/Users/chrislacarte/opt/anaconda3/lib/python3.9/site-packages/seaborn/distributions.py:2619: FutureWarning: `distplot` is a deprecated function and will be removed in a future version. Please adapt your code to use either `displot` (a figure-level function with similar flexibility) or `histplot` (an axes-level function for histograms).\n",
      "  warnings.warn(msg, FutureWarning)\n"
     ]
    },
    {
     "data": {
      "image/png": "[encoded data removed]",
      "text/plain": [
       "<Figure size 576x576 with 1 Axes>"
      ]
     },
     "metadata": {
      "needs_background": "light"
     },
     "output_type": "display_data"
    },
    {
     "name": "stdout",
     "output_type": "stream",
     "text": [
      "months_since_policy_inception\n"
     ]
    },
    {
     "name": "stderr",
     "output_type": "stream",
     "text": [
      "/Users/chrislacarte/opt/anaconda3/lib/python3.9/site-packages/seaborn/distributions.py:2619: FutureWarning: `distplot` is a deprecated function and will be removed in a future version. Please adapt your code to use either `displot` (a figure-level function with similar flexibility) or `histplot` (an axes-level function for histograms).\n",
      "  warnings.warn(msg, FutureWarning)\n"
     ]
    },
    {
     "data": {
      "image/png": "[encoded data removed]",
      "text/plain": [
       "<Figure size 576x576 with 1 Axes>"
      ]
     },
     "metadata": {
      "needs_background": "light"
     },
     "output_type": "display_data"
    },
    {
     "name": "stdout",
     "output_type": "stream",
     "text": [
      "number_of_open_complaints\n"
     ]
    },
    {
     "name": "stderr",
     "output_type": "stream",
     "text": [
      "/Users/chrislacarte/opt/anaconda3/lib/python3.9/site-packages/seaborn/distributions.py:2619: FutureWarning: `distplot` is a deprecated function and will be removed in a future version. Please adapt your code to use either `displot` (a figure-level function with similar flexibility) or `histplot` (an axes-level function for histograms).\n",
      "  warnings.warn(msg, FutureWarning)\n"
     ]
    },
    {
     "data": {
      "image/png": "[encoded data removed]",
      "text/plain": [
       "<Figure size 576x576 with 1 Axes>"
      ]
     },
     "metadata": {
      "needs_background": "light"
     },
     "output_type": "display_data"
    },
    {
     "name": "stdout",
     "output_type": "stream",
     "text": [
      "number_of_policies\n"
     ]
    },
    {
     "name": "stderr",
     "output_type": "stream",
     "text": [
      "/Users/chrislacarte/opt/anaconda3/lib/python3.9/site-packages/seaborn/distributions.py:2619: FutureWarning: `distplot` is a deprecated function and will be removed in a future version. Please adapt your code to use either `displot` (a figure-level function with similar flexibility) or `histplot` (an axes-level function for histograms).\n",
      "  warnings.warn(msg, FutureWarning)\n"
     ]
    },
    {
     "data": {
      "image/png": "[encoded data removed]",
      "text/plain": [
       "<Figure size 576x576 with 1 Axes>"
      ]
     },
     "metadata": {
      "needs_background": "light"
     },
     "output_type": "display_data"
    }
   ],
   "source": [
    "#https://stackoverflow.com/questions/53310228/how-can-i-make-seaborn-distribution-subplots-in-a-loop\n",
    "plt.rc('figure', figsize=(8,8))  \n",
    "fig=plt.figure()\n",
    "def plot_dis(df):\n",
    "    for i in df.columns:\n",
    "        print(i)\n",
    "        sns.distplot(df[i])\n",
    "        plt.show()\n",
    "plot_dis(X_train_num_dis)"
   ]
  },
  {
   "cell_type": "markdown",
   "metadata": {},
   "source": [
    "9. Comment what you can see in the plots.\n",
    "\n"
   ]
  },
  {
   "cell_type": "markdown",
   "metadata": {},
   "source": [
    "Discrete Vbles: \n",
    "\n",
    "months_since_last_claim: very few outliers\n",
    "\n",
    "months_since_policy_inception: very few outliers\n",
    "\n",
    "number_of_open_complaints:\n",
    "The majority of the observations have 0 open complaints, and then the amount of customers that have 2, 3, 4 complaints reduces consistently.\n",
    "\n",
    "\n",
    "number_of_policies:\n",
    "Also shows the majority of customers have only 1 policy and the numebr of customers that have 2,3... reduces as well. NO outliers to nbe taken out."
   ]
  },
  {
   "cell_type": "code",
   "execution_count": 16,
   "metadata": {},
   "outputs": [
    {
     "data": {
      "image/png": "[encoded data removed]",
      "text/plain": [
       "<Figure size 720x360 with 1 Axes>"
      ]
     },
     "metadata": {
      "needs_background": "light"
     },
     "output_type": "display_data"
    },
    {
     "data": {
      "image/png": "[encoded data removed]",
      "text/plain": [
       "<Figure size 720x360 with 1 Axes>"
      ]
     },
     "metadata": {
      "needs_background": "light"
     },
     "output_type": "display_data"
    },
    {
     "data": {
      "image/png": "[encoded data removed]",
      "text/plain": [
       "<Figure size 720x360 with 1 Axes>"
      ]
     },
     "metadata": {
      "needs_background": "light"
     },
     "output_type": "display_data"
    }
   ],
   "source": [
    "def plot_con(df):\n",
    "    for col in df.columns:\n",
    "        plt.figure(figsize=(10,5))\n",
    "        df.boxplot(col)\n",
    "plot_con(X_train_num_con)"
   ]
  },
  {
   "cell_type": "markdown",
   "metadata": {},
   "source": [
    "10. Look for outliers in the continuous variables. (HINT: There’s a good plot to do that!)\n",
    "\n"
   ]
  },
  {
   "cell_type": "markdown",
   "metadata": {},
   "source": [
    "Continuous variables:"
   ]
  },
  {
   "cell_type": "markdown",
   "metadata": {},
   "source": [
    "customer_lifetime_value: the plot shows many outliers, but is just skewed, they are relevant, \n",
    "I will take out just the most extreme ones (10%)\n",
    "\n",
    "income: very few outliers \n",
    "\n",
    "monthly_premium_aut: many outliers \n",
    "\n",
    "total_claim_amount: many outliers "
   ]
  },
  {
   "cell_type": "markdown",
   "metadata": {},
   "source": [
    "11. Did you find outliers?  Comment what you will do with them.\n",
    "\n"
   ]
  },
  {
   "cell_type": "code",
   "execution_count": 17,
   "metadata": {},
   "outputs": [
    {
     "data": {
      "image/png": "[encoded data removed]",
      "text/plain": [
       "<Figure size 360x360 with 1 Axes>"
      ]
     },
     "metadata": {
      "needs_background": "light"
     },
     "output_type": "display_data"
    },
    {
     "data": {
      "image/png": "[encoded data removed]",
      "text/plain": [
       "<Figure size 360x360 with 1 Axes>"
      ]
     },
     "metadata": {
      "needs_background": "light"
     },
     "output_type": "display_data"
    },
    {
     "data": {
      "text/plain": [
       "count     2284.000000\n",
       "mean      7911.028569\n",
       "std       6835.026039\n",
       "min       1898.683686\n",
       "25%       3954.344534\n",
       "50%       5695.460667\n",
       "75%       8889.083080\n",
       "max      83325.381190\n",
       "Name: customer_lifetime_value, dtype: float64"
      ]
     },
     "execution_count": 17,
     "metadata": {},
     "output_type": "execute_result"
    }
   ],
   "source": [
    "#Customer_lifetime_value: the plot shows many outliers, but is just skewed, they are relevant, \n",
    "#I will take out just the most extreme ones (10%)\n",
    "\n",
    "#TRAIN ++++++++++++++++++++++++++++++++++++++++++++++++++++++\n",
    "X_train_num_con[['customer_lifetime_value']].describe()\n",
    "sns.displot(X_train_num_con['customer_lifetime_value'],kde=True)\n",
    "plt.show()\n",
    "X_train_num_con['customer_lifetime_value'].describe()\n",
    "#TEST +++++++++++++++++++++++++++++++++++++++++++++++++++++++\n",
    "X_test_num_con[['customer_lifetime_value']].describe()\n",
    "sns.displot(X_test_num_con['customer_lifetime_value'],kde=True)\n",
    "plt.show()\n",
    "X_test_num_con['customer_lifetime_value'].describe()"
   ]
  },
  {
   "cell_type": "code",
   "execution_count": 18,
   "metadata": {},
   "outputs": [
    {
     "data": {
      "image/png": "[encoded data removed]",
      "text/plain": [
       "<Figure size 360x360 with 1 Axes>"
      ]
     },
     "metadata": {
      "needs_background": "light"
     },
     "output_type": "display_data"
    },
    {
     "data": {
      "image/png": "[encoded data removed]",
      "text/plain": [
       "<Figure size 360x360 with 1 Axes>"
      ]
     },
     "metadata": {
      "needs_background": "light"
     },
     "output_type": "display_data"
    },
    {
     "data": {
      "text/plain": [
       "count     2251.000000\n",
       "mean      7405.094462\n",
       "std       5272.690188\n",
       "min       1898.683686\n",
       "25%       3923.840865\n",
       "50%       5619.068508\n",
       "75%       8727.878829\n",
       "max      33053.268690\n",
       "Name: customer_lifetime_value, dtype: float64"
      ]
     },
     "execution_count": 18,
     "metadata": {},
     "output_type": "execute_result"
    }
   ],
   "source": [
    "# PERCENTILE 95\n",
    "#TRAIN ++++++++++++++++++++++++++++++++++++++++++++++++++++++\n",
    "iqr = np.percentile(X_train_num_con['customer_lifetime_value'],90) - np.percentile(X_train_num_con['customer_lifetime_value'],10)\n",
    "upper_limit = np.percentile(X_train_num_con['customer_lifetime_value'],90) + 1.5*iqr\n",
    "lower_limit = np.percentile(X_train_num_con['customer_lifetime_value'],10) - 1.5*iqr\n",
    "\n",
    "X_train_num_con = X_train_num_con[(X_train_num_con['customer_lifetime_value']>lower_limit) & (X_train_num_con['customer_lifetime_value']<upper_limit)].copy()\n",
    "sns.displot(X_train_num_con['customer_lifetime_value'],kde=True)\n",
    "plt.show()\n",
    "X_train_num_con['customer_lifetime_value'].describe()\n",
    "#TEST +++++++++++++++++++++++++++++++++++++++++++++++++++++++\n",
    "iqr = np.percentile(X_test_num_con['customer_lifetime_value'],90) - np.percentile(X_test_num_con['customer_lifetime_value'],10)\n",
    "upper_limit = np.percentile(X_test_num_con['customer_lifetime_value'],90) + 1.5*iqr\n",
    "lower_limit = np.percentile(X_test_num_con['customer_lifetime_value'],10) - 1.5*iqr\n",
    "\n",
    "X_test_num_con = X_test_num_con[(X_test_num_con['customer_lifetime_value']>lower_limit) & (X_test_num_con['customer_lifetime_value']<upper_limit)].copy()\n",
    "sns.displot(X_test_num_con['customer_lifetime_value'],kde=True)\n",
    "plt.show()\n",
    "X_test_num_con['customer_lifetime_value'].describe()"
   ]
  },
  {
   "cell_type": "markdown",
   "metadata": {},
   "source": [
    "The 95% percentile is still around 35.000 value so its a good thing we still keep the chunck of the data"
   ]
  },
  {
   "cell_type": "markdown",
   "metadata": {},
   "source": [
    "monthly_premium_auto: many outliers "
   ]
  },
  {
   "cell_type": "code",
   "execution_count": 19,
   "metadata": {},
   "outputs": [
    {
     "data": {
      "image/png": "[encoded data removed]",
      "text/plain": [
       "<Figure size 360x360 with 1 Axes>"
      ]
     },
     "metadata": {
      "needs_background": "light"
     },
     "output_type": "display_data"
    },
    {
     "data": {
      "image/png": "[encoded data removed]",
      "text/plain": [
       "<Figure size 360x360 with 1 Axes>"
      ]
     },
     "metadata": {
      "needs_background": "light"
     },
     "output_type": "display_data"
    },
    {
     "data": {
      "text/plain": [
       "count    2251.000000\n",
       "mean       92.571302\n",
       "std        34.434319\n",
       "min        61.000000\n",
       "25%        68.000000\n",
       "50%        82.000000\n",
       "75%       108.000000\n",
       "max       296.000000\n",
       "Name: monthly_premium_auto, dtype: float64"
      ]
     },
     "execution_count": 19,
     "metadata": {},
     "output_type": "execute_result"
    }
   ],
   "source": [
    "# monthly_premium_auto: the plot does not show outliers, is just a bit  skewed.\n",
    "#With the scaling will be enough \n",
    "#TRAIN ++++++++++++++++++++++++++++++++++++++++++++++++++++++\n",
    "X_train_num_con[['monthly_premium_auto']].describe()\n",
    "sns.displot(X_train_num_con['monthly_premium_auto'],kde=True)\n",
    "plt.show()\n",
    "X_train_num_con['monthly_premium_auto'].describe()\n",
    "#TEST +++++++++++++++++++++++++++++++++++++++++++++++++++++++\n",
    "X_test_num_con[['monthly_premium_auto']].describe()\n",
    "sns.displot(X_test_num_con['monthly_premium_auto'],kde=True)\n",
    "plt.show()\n",
    "X_test_num_con['monthly_premium_auto'].describe()"
   ]
  },
  {
   "cell_type": "markdown",
   "metadata": {},
   "source": [
    "12. Check all columns for NaN values.  Decide what (if anything) you will need to do with them.\n",
    "\n"
   ]
  },
  {
   "cell_type": "code",
   "execution_count": 20,
   "metadata": {},
   "outputs": [
    {
     "name": "stdout",
     "output_type": "stream",
     "text": [
      "customer_lifetime_value    0\n",
      "income                     0\n",
      "monthly_premium_auto       0\n",
      "dtype: int64\n",
      "months_since_last_claim          0\n",
      "months_since_policy_inception    0\n",
      "number_of_open_complaints        0\n",
      "number_of_policies               0\n",
      "dtype: int64\n",
      "customer_lifetime_value    0\n",
      "income                     0\n",
      "monthly_premium_auto       0\n",
      "dtype: int64\n",
      "months_since_last_claim          0\n",
      "months_since_policy_inception    0\n",
      "number_of_open_complaints        0\n",
      "number_of_policies               0\n",
      "dtype: int64\n"
     ]
    }
   ],
   "source": [
    "#TRAIN ++++++++++++++++++++++++++++++++++++++++++++++++++++++\n",
    "print(X_train_num_con.isnull().sum())\n",
    "print(X_train_num_dis.isnull().sum())\n",
    "#TEST +++++++++++++++++++++++++++++++++++++++++++++++++++++++\n",
    "print(X_test_num_con.isnull().sum())\n",
    "print(X_test_num_dis.isnull().sum())"
   ]
  },
  {
   "cell_type": "markdown",
   "metadata": {},
   "source": [
    "NORMALISING DISCRETE VBLES WITH MinMaxScaler"
   ]
  },
  {
   "cell_type": "code",
   "execution_count": 21,
   "metadata": {},
   "outputs": [],
   "source": [
    "#We only fit the train set in the transformer:\n",
    "transformer = MinMaxScaler().fit(X_train_num_dis)\n",
    "#TRAIN ++++++++++++++++++++++++++++++++++++++++++++++++++++++\n",
    "X_train_num_dis_norm = transformer.transform(X_train_num_dis)\n",
    "X_train_num_d_n= pd.DataFrame(X_train_num_dis_norm, columns=X_train_num_dis.columns)\n",
    "\n",
    "#TEST ++++++++++++++++++++++++++++++++++++++++++++++++++++++\n",
    "X_test_num_dis_norm = transformer.transform(X_test_num_dis)\n",
    "X_test_num_d_n= pd.DataFrame(X_test_num_dis_norm, columns=X_test_num_dis.columns)\n"
   ]
  },
  {
   "cell_type": "markdown",
   "metadata": {},
   "source": [
    "NORMALISING CONTINUOUS VBLES WITH StandardScaler "
   ]
  },
  {
   "cell_type": "code",
   "execution_count": 22,
   "metadata": {},
   "outputs": [],
   "source": [
    "#We only fit the train set in the transformer:\n",
    "transformer = StandardScaler().fit(X_train_num_con)\n",
    "#TRAIN ++++++++++++++++++++++++++++++++++++++++++++++++++++++\n",
    "X_train_num_con_st= transformer.transform(X_train_num_con)\n",
    "X_train_num_c_st= pd.DataFrame(X_train_num_con_st, columns=X_train_num_con.columns)\n",
    "#TEST ++++++++++++++++++++++++++++++++++++++++++++++++++++++\n",
    "X_test_num_con_st= transformer.transform(X_test_num_con)\n",
    "X_test_num_c_st= pd.DataFrame(X_test_num_con_st, columns=X_test_num_con.columns)"
   ]
  },
  {
   "cell_type": "code",
   "execution_count": 23,
   "metadata": {},
   "outputs": [
    {
     "data": {
      "text/html": [
       "<div>\n",
       "<style scoped>\n",
       "    .dataframe tbody tr th:only-of-type {\n",
       "        vertical-align: middle;\n",
       "    }\n",
       "\n",
       "    .dataframe tbody tr th {\n",
       "        vertical-align: top;\n",
       "    }\n",
       "\n",
       "    .dataframe thead th {\n",
       "        text-align: right;\n",
       "    }\n",
       "</style>\n",
       "<table border=\"1\" class=\"dataframe\">\n",
       "  <thead>\n",
       "    <tr style=\"text-align: right;\">\n",
       "      <th></th>\n",
       "      <th>customer_lifetime_value</th>\n",
       "      <th>income</th>\n",
       "      <th>monthly_premium_auto</th>\n",
       "    </tr>\n",
       "  </thead>\n",
       "  <tbody>\n",
       "    <tr>\n",
       "      <th>0</th>\n",
       "      <td>-0.240202</td>\n",
       "      <td>-0.251469</td>\n",
       "      <td>1.991800</td>\n",
       "    </tr>\n",
       "    <tr>\n",
       "      <th>1</th>\n",
       "      <td>-0.364504</td>\n",
       "      <td>-1.241372</td>\n",
       "      <td>2.860751</td>\n",
       "    </tr>\n",
       "    <tr>\n",
       "      <th>2</th>\n",
       "      <td>1.981829</td>\n",
       "      <td>-1.241372</td>\n",
       "      <td>2.411294</td>\n",
       "    </tr>\n",
       "    <tr>\n",
       "      <th>3</th>\n",
       "      <td>2.041228</td>\n",
       "      <td>0.041918</td>\n",
       "      <td>-0.734911</td>\n",
       "    </tr>\n",
       "    <tr>\n",
       "      <th>4</th>\n",
       "      <td>-0.375031</td>\n",
       "      <td>-0.150178</td>\n",
       "      <td>-0.674983</td>\n",
       "    </tr>\n",
       "    <tr>\n",
       "      <th>...</th>\n",
       "      <td>...</td>\n",
       "      <td>...</td>\n",
       "      <td>...</td>\n",
       "    </tr>\n",
       "    <tr>\n",
       "      <th>6767</th>\n",
       "      <td>0.926827</td>\n",
       "      <td>-0.382613</td>\n",
       "      <td>0.793246</td>\n",
       "    </tr>\n",
       "    <tr>\n",
       "      <th>6768</th>\n",
       "      <td>-0.007169</td>\n",
       "      <td>0.227110</td>\n",
       "      <td>-0.824802</td>\n",
       "    </tr>\n",
       "    <tr>\n",
       "      <th>6769</th>\n",
       "      <td>-0.300969</td>\n",
       "      <td>1.876805</td>\n",
       "      <td>-0.585092</td>\n",
       "    </tr>\n",
       "    <tr>\n",
       "      <th>6770</th>\n",
       "      <td>-0.405984</td>\n",
       "      <td>0.576321</td>\n",
       "      <td>-0.764875</td>\n",
       "    </tr>\n",
       "    <tr>\n",
       "      <th>6771</th>\n",
       "      <td>-0.483583</td>\n",
       "      <td>-0.613568</td>\n",
       "      <td>-0.854766</td>\n",
       "    </tr>\n",
       "  </tbody>\n",
       "</table>\n",
       "<p>6772 rows × 3 columns</p>\n",
       "</div>"
      ],
      "text/plain": [
       "      customer_lifetime_value    income  monthly_premium_auto\n",
       "0                   -0.240202 -0.251469              1.991800\n",
       "1                   -0.364504 -1.241372              2.860751\n",
       "2                    1.981829 -1.241372              2.411294\n",
       "3                    2.041228  0.041918             -0.734911\n",
       "4                   -0.375031 -0.150178             -0.674983\n",
       "...                       ...       ...                   ...\n",
       "6767                 0.926827 -0.382613              0.793246\n",
       "6768                -0.007169  0.227110             -0.824802\n",
       "6769                -0.300969  1.876805             -0.585092\n",
       "6770                -0.405984  0.576321             -0.764875\n",
       "6771                -0.483583 -0.613568             -0.854766\n",
       "\n",
       "[6772 rows x 3 columns]"
      ]
     },
     "execution_count": 23,
     "metadata": {},
     "output_type": "execute_result"
    }
   ],
   "source": [
    "X_train_num_c_st"
   ]
  },
  {
   "cell_type": "code",
   "execution_count": 24,
   "metadata": {},
   "outputs": [
    {
     "data": {
      "text/html": [
       "<div>\n",
       "<style scoped>\n",
       "    .dataframe tbody tr th:only-of-type {\n",
       "        vertical-align: middle;\n",
       "    }\n",
       "\n",
       "    .dataframe tbody tr th {\n",
       "        vertical-align: top;\n",
       "    }\n",
       "\n",
       "    .dataframe thead th {\n",
       "        text-align: right;\n",
       "    }\n",
       "</style>\n",
       "<table border=\"1\" class=\"dataframe\">\n",
       "  <thead>\n",
       "    <tr style=\"text-align: right;\">\n",
       "      <th></th>\n",
       "      <th>months_since_last_claim</th>\n",
       "      <th>months_since_policy_inception</th>\n",
       "      <th>number_of_open_complaints</th>\n",
       "      <th>number_of_policies</th>\n",
       "    </tr>\n",
       "  </thead>\n",
       "  <tbody>\n",
       "    <tr>\n",
       "      <th>0</th>\n",
       "      <td>0.571429</td>\n",
       "      <td>0.717172</td>\n",
       "      <td>0.0</td>\n",
       "      <td>0.000</td>\n",
       "    </tr>\n",
       "    <tr>\n",
       "      <th>1</th>\n",
       "      <td>0.142857</td>\n",
       "      <td>0.616162</td>\n",
       "      <td>0.8</td>\n",
       "      <td>0.000</td>\n",
       "    </tr>\n",
       "    <tr>\n",
       "      <th>2</th>\n",
       "      <td>0.685714</td>\n",
       "      <td>0.212121</td>\n",
       "      <td>0.0</td>\n",
       "      <td>0.125</td>\n",
       "    </tr>\n",
       "    <tr>\n",
       "      <th>3</th>\n",
       "      <td>0.285714</td>\n",
       "      <td>0.555556</td>\n",
       "      <td>0.0</td>\n",
       "      <td>0.125</td>\n",
       "    </tr>\n",
       "    <tr>\n",
       "      <th>4</th>\n",
       "      <td>0.257143</td>\n",
       "      <td>0.808081</td>\n",
       "      <td>0.0</td>\n",
       "      <td>1.000</td>\n",
       "    </tr>\n",
       "    <tr>\n",
       "      <th>...</th>\n",
       "      <td>...</td>\n",
       "      <td>...</td>\n",
       "      <td>...</td>\n",
       "      <td>...</td>\n",
       "    </tr>\n",
       "    <tr>\n",
       "      <th>6845</th>\n",
       "      <td>0.342857</td>\n",
       "      <td>0.515152</td>\n",
       "      <td>0.0</td>\n",
       "      <td>0.125</td>\n",
       "    </tr>\n",
       "    <tr>\n",
       "      <th>6846</th>\n",
       "      <td>0.714286</td>\n",
       "      <td>0.535354</td>\n",
       "      <td>0.0</td>\n",
       "      <td>0.125</td>\n",
       "    </tr>\n",
       "    <tr>\n",
       "      <th>6847</th>\n",
       "      <td>0.428571</td>\n",
       "      <td>0.686869</td>\n",
       "      <td>0.0</td>\n",
       "      <td>0.750</td>\n",
       "    </tr>\n",
       "    <tr>\n",
       "      <th>6848</th>\n",
       "      <td>0.285714</td>\n",
       "      <td>0.717172</td>\n",
       "      <td>0.0</td>\n",
       "      <td>0.250</td>\n",
       "    </tr>\n",
       "    <tr>\n",
       "      <th>6849</th>\n",
       "      <td>0.485714</td>\n",
       "      <td>0.050505</td>\n",
       "      <td>0.0</td>\n",
       "      <td>0.250</td>\n",
       "    </tr>\n",
       "  </tbody>\n",
       "</table>\n",
       "<p>6850 rows × 4 columns</p>\n",
       "</div>"
      ],
      "text/plain": [
       "      months_since_last_claim  months_since_policy_inception  \\\n",
       "0                    0.571429                       0.717172   \n",
       "1                    0.142857                       0.616162   \n",
       "2                    0.685714                       0.212121   \n",
       "3                    0.285714                       0.555556   \n",
       "4                    0.257143                       0.808081   \n",
       "...                       ...                            ...   \n",
       "6845                 0.342857                       0.515152   \n",
       "6846                 0.714286                       0.535354   \n",
       "6847                 0.428571                       0.686869   \n",
       "6848                 0.285714                       0.717172   \n",
       "6849                 0.485714                       0.050505   \n",
       "\n",
       "      number_of_open_complaints  number_of_policies  \n",
       "0                           0.0               0.000  \n",
       "1                           0.8               0.000  \n",
       "2                           0.0               0.125  \n",
       "3                           0.0               0.125  \n",
       "4                           0.0               1.000  \n",
       "...                         ...                 ...  \n",
       "6845                        0.0               0.125  \n",
       "6846                        0.0               0.125  \n",
       "6847                        0.0               0.750  \n",
       "6848                        0.0               0.250  \n",
       "6849                        0.0               0.250  \n",
       "\n",
       "[6850 rows x 4 columns]"
      ]
     },
     "execution_count": 24,
     "metadata": {},
     "output_type": "execute_result"
    }
   ],
   "source": [
    "X_train_num_d_n"
   ]
  },
  {
   "cell_type": "markdown",
   "metadata": {},
   "source": [
    "NOW I CONCATENATE THE 2 DF IN 1 NUMERICAL PROCESSED"
   ]
  },
  {
   "cell_type": "code",
   "execution_count": 25,
   "metadata": {},
   "outputs": [],
   "source": [
    "#TRAIN ++++++++++++++++++++++++++++++++++++++++++++++++++++++\n",
    "data_num_train = pd.concat([X_train_num_d_n, X_train_num_c_st], axis=1)\n",
    "#TEST ++++++++++++++++++++++++++++++++++++++++++++++++++++++\n",
    "data_num_test = pd.concat([X_test_num_d_n, X_test_num_c_st], axis=1)"
   ]
  },
  {
   "cell_type": "code",
   "execution_count": 26,
   "metadata": {},
   "outputs": [
    {
     "name": "stdout",
     "output_type": "stream",
     "text": [
      "months_since_last_claim           0\n",
      "months_since_policy_inception     0\n",
      "number_of_open_complaints         0\n",
      "number_of_policies                0\n",
      "customer_lifetime_value          78\n",
      "income                           78\n",
      "monthly_premium_auto             78\n",
      "dtype: int64\n",
      "months_since_last_claim           0\n",
      "months_since_policy_inception     0\n",
      "number_of_open_complaints         0\n",
      "number_of_policies                0\n",
      "customer_lifetime_value          33\n",
      "income                           33\n",
      "monthly_premium_auto             33\n",
      "dtype: int64\n"
     ]
    }
   ],
   "source": [
    "#There are some NaN values, due to the outliers I took off\n",
    "print(data_num_train.isna().sum())\n",
    "print(data_num_test.isna().sum())"
   ]
  },
  {
   "cell_type": "markdown",
   "metadata": {},
   "source": [
    "I will fill NaNs as follows: \n",
    "\n",
    "\n",
    "\n",
    "\n"
   ]
  },
  {
   "cell_type": "code",
   "execution_count": 27,
   "metadata": {},
   "outputs": [],
   "source": [
    "#makes sense fill with the mean \n",
    "#TRAIN ++++++++++++++++++++++++++++++++++++++++++++++++++++++\n",
    "data_num_train['customer_lifetime_value'].fillna((data_num_train['customer_lifetime_value'].mean()), inplace=True)\n",
    "data_num_train['income'].fillna((data_num_train['income'].mean()), inplace=True)\n",
    "data_num_train['monthly_premium_auto'].fillna((data_num_train['monthly_premium_auto'].mean()), inplace=True)\n",
    "#TEST +++++++++++++++++++++++++++++++++++++++++++++++++++++++\n",
    "data_num_test['customer_lifetime_value'].fillna((data_num_test['customer_lifetime_value'].mean()), inplace=True)\n",
    "data_num_test['income'].fillna((data_num_test['income'].mean()), inplace=True)\n",
    "data_num_test['monthly_premium_auto'].fillna((data_num_test['monthly_premium_auto'].mean()), inplace=True)"
   ]
  },
  {
   "cell_type": "markdown",
   "metadata": {},
   "source": [
    "## Lab | Cleaning categorical data<a class=\"anchor\" id=\"second-bullet\"></a>"
   ]
  },
  {
   "cell_type": "markdown",
   "metadata": {},
   "source": [
    "For this lab, we will be using the dataset in the Customer Analysis Business Case. This dataset can be found in `files_for_lab` folder. In this lab we will explore categorical data.\n"
   ]
  },
  {
   "cell_type": "markdown",
   "metadata": {},
   "source": [
    "1. Import the necessary libraries if you are starting a new notebook.\n",
    "Using the same data as the previous lab: we_fn_use_c_marketing_customer_value_analysis.csv\n",
    "\n",
    "\n"
   ]
  },
  {
   "cell_type": "markdown",
   "metadata": {},
   "source": [
    "2. Find  all of the categorical data.  Save it in a categorical_df variable."
   ]
  },
  {
   "cell_type": "code",
   "execution_count": 28,
   "metadata": {},
   "outputs": [],
   "source": [
    "#SPLIT CATEGORICAL:\n",
    "#TRAIN ++++++++++++++++++++++++++++++++++++++++++++++++++++++\n",
    "X_train_cat = X_train.select_dtypes(include=['object'])\n",
    "X_train_cat = X_train_cat.reset_index(drop = True)\n",
    "#TEST +++++++++++++++++++++++++++++++++++++++++++++++++++++++\n",
    "X_test_cat = X_test.select_dtypes(include=['object'])\n",
    "X_test_cat = X_test_cat.reset_index(drop = True)"
   ]
  },
  {
   "cell_type": "markdown",
   "metadata": {},
   "source": [
    "3. Check for NaN values.\n",
    "\n"
   ]
  },
  {
   "cell_type": "code",
   "execution_count": 29,
   "metadata": {},
   "outputs": [
    {
     "name": "stdout",
     "output_type": "stream",
     "text": [
      "customer            False\n",
      "state               False\n",
      "response            False\n",
      "coverage            False\n",
      "education           False\n",
      "employmentstatus    False\n",
      "gender              False\n",
      "location_code       False\n",
      "marital_status      False\n",
      "policy_type         False\n",
      "policy              False\n",
      "renew_offer_type    False\n",
      "sales_channel       False\n",
      "vehicle_class       False\n",
      "vehicle_size        False\n",
      "dtype: bool\n",
      "customer            False\n",
      "state               False\n",
      "response            False\n",
      "coverage            False\n",
      "education           False\n",
      "employmentstatus    False\n",
      "gender              False\n",
      "location_code       False\n",
      "marital_status      False\n",
      "policy_type         False\n",
      "policy              False\n",
      "renew_offer_type    False\n",
      "sales_channel       False\n",
      "vehicle_class       False\n",
      "vehicle_size        False\n",
      "dtype: bool\n"
     ]
    }
   ],
   "source": [
    "print(X_train_cat.isnull().any())\n",
    "print(X_test_cat.isnull().any())"
   ]
  },
  {
   "cell_type": "code",
   "execution_count": 30,
   "metadata": {},
   "outputs": [],
   "source": [
    "#reset index:\n",
    "X_train_cat = X_train_cat.reset_index(drop = True)\n",
    "X_test_cat = X_test_cat.reset_index(drop = True)"
   ]
  },
  {
   "cell_type": "markdown",
   "metadata": {},
   "source": [
    "5. Check dtypes. Do they all make sense as categorical data?\n",
    "\n"
   ]
  },
  {
   "cell_type": "code",
   "execution_count": 31,
   "metadata": {},
   "outputs": [
    {
     "data": {
      "text/html": [
       "<div>\n",
       "<style scoped>\n",
       "    .dataframe tbody tr th:only-of-type {\n",
       "        vertical-align: middle;\n",
       "    }\n",
       "\n",
       "    .dataframe tbody tr th {\n",
       "        vertical-align: top;\n",
       "    }\n",
       "\n",
       "    .dataframe thead th {\n",
       "        text-align: right;\n",
       "    }\n",
       "</style>\n",
       "<table border=\"1\" class=\"dataframe\">\n",
       "  <thead>\n",
       "    <tr style=\"text-align: right;\">\n",
       "      <th></th>\n",
       "      <th>customer</th>\n",
       "      <th>state</th>\n",
       "      <th>response</th>\n",
       "      <th>coverage</th>\n",
       "      <th>education</th>\n",
       "      <th>employmentstatus</th>\n",
       "      <th>gender</th>\n",
       "      <th>location_code</th>\n",
       "      <th>marital_status</th>\n",
       "      <th>policy_type</th>\n",
       "      <th>policy</th>\n",
       "      <th>renew_offer_type</th>\n",
       "      <th>sales_channel</th>\n",
       "      <th>vehicle_class</th>\n",
       "      <th>vehicle_size</th>\n",
       "    </tr>\n",
       "  </thead>\n",
       "  <tbody>\n",
       "    <tr>\n",
       "      <th>0</th>\n",
       "      <td>CC30924</td>\n",
       "      <td>Oregon</td>\n",
       "      <td>No</td>\n",
       "      <td>Premium</td>\n",
       "      <td>College</td>\n",
       "      <td>Employed</td>\n",
       "      <td>M</td>\n",
       "      <td>Urban</td>\n",
       "      <td>Married</td>\n",
       "      <td>Corporate Auto</td>\n",
       "      <td>Corporate L3</td>\n",
       "      <td>Offer4</td>\n",
       "      <td>Agent</td>\n",
       "      <td>Sports Car</td>\n",
       "      <td>Small</td>\n",
       "    </tr>\n",
       "    <tr>\n",
       "      <th>1</th>\n",
       "      <td>MP85571</td>\n",
       "      <td>Arizona</td>\n",
       "      <td>No</td>\n",
       "      <td>Premium</td>\n",
       "      <td>Bachelor</td>\n",
       "      <td>Unemployed</td>\n",
       "      <td>F</td>\n",
       "      <td>Suburban</td>\n",
       "      <td>Single</td>\n",
       "      <td>Personal Auto</td>\n",
       "      <td>Personal L2</td>\n",
       "      <td>Offer3</td>\n",
       "      <td>Agent</td>\n",
       "      <td>SUV</td>\n",
       "      <td>Medsize</td>\n",
       "    </tr>\n",
       "    <tr>\n",
       "      <th>2</th>\n",
       "      <td>FM54600</td>\n",
       "      <td>Washington</td>\n",
       "      <td>No</td>\n",
       "      <td>Premium</td>\n",
       "      <td>High School or Below</td>\n",
       "      <td>Unemployed</td>\n",
       "      <td>F</td>\n",
       "      <td>Suburban</td>\n",
       "      <td>Single</td>\n",
       "      <td>Corporate Auto</td>\n",
       "      <td>Corporate L2</td>\n",
       "      <td>Offer2</td>\n",
       "      <td>Branch</td>\n",
       "      <td>SUV</td>\n",
       "      <td>Medsize</td>\n",
       "    </tr>\n",
       "    <tr>\n",
       "      <th>3</th>\n",
       "      <td>WW31823</td>\n",
       "      <td>Oregon</td>\n",
       "      <td>No</td>\n",
       "      <td>Basic</td>\n",
       "      <td>High School or Below</td>\n",
       "      <td>Employed</td>\n",
       "      <td>F</td>\n",
       "      <td>Suburban</td>\n",
       "      <td>Married</td>\n",
       "      <td>Personal Auto</td>\n",
       "      <td>Personal L1</td>\n",
       "      <td>Offer1</td>\n",
       "      <td>Agent</td>\n",
       "      <td>Four-Door Car</td>\n",
       "      <td>Small</td>\n",
       "    </tr>\n",
       "    <tr>\n",
       "      <th>4</th>\n",
       "      <td>RJ80405</td>\n",
       "      <td>Arizona</td>\n",
       "      <td>No</td>\n",
       "      <td>Basic</td>\n",
       "      <td>Bachelor</td>\n",
       "      <td>Employed</td>\n",
       "      <td>M</td>\n",
       "      <td>Suburban</td>\n",
       "      <td>Married</td>\n",
       "      <td>Personal Auto</td>\n",
       "      <td>Personal L1</td>\n",
       "      <td>Offer3</td>\n",
       "      <td>Branch</td>\n",
       "      <td>Four-Door Car</td>\n",
       "      <td>Medsize</td>\n",
       "    </tr>\n",
       "    <tr>\n",
       "      <th>...</th>\n",
       "      <td>...</td>\n",
       "      <td>...</td>\n",
       "      <td>...</td>\n",
       "      <td>...</td>\n",
       "      <td>...</td>\n",
       "      <td>...</td>\n",
       "      <td>...</td>\n",
       "      <td>...</td>\n",
       "      <td>...</td>\n",
       "      <td>...</td>\n",
       "      <td>...</td>\n",
       "      <td>...</td>\n",
       "      <td>...</td>\n",
       "      <td>...</td>\n",
       "      <td>...</td>\n",
       "    </tr>\n",
       "    <tr>\n",
       "      <th>6845</th>\n",
       "      <td>GA98025</td>\n",
       "      <td>Arizona</td>\n",
       "      <td>No</td>\n",
       "      <td>Basic</td>\n",
       "      <td>Bachelor</td>\n",
       "      <td>Retired</td>\n",
       "      <td>M</td>\n",
       "      <td>Suburban</td>\n",
       "      <td>Single</td>\n",
       "      <td>Personal Auto</td>\n",
       "      <td>Personal L2</td>\n",
       "      <td>Offer1</td>\n",
       "      <td>Call Center</td>\n",
       "      <td>SUV</td>\n",
       "      <td>Medsize</td>\n",
       "    </tr>\n",
       "    <tr>\n",
       "      <th>6846</th>\n",
       "      <td>EW27959</td>\n",
       "      <td>California</td>\n",
       "      <td>No</td>\n",
       "      <td>Basic</td>\n",
       "      <td>Bachelor</td>\n",
       "      <td>Employed</td>\n",
       "      <td>F</td>\n",
       "      <td>Urban</td>\n",
       "      <td>Single</td>\n",
       "      <td>Personal Auto</td>\n",
       "      <td>Personal L2</td>\n",
       "      <td>Offer1</td>\n",
       "      <td>Web</td>\n",
       "      <td>Four-Door Car</td>\n",
       "      <td>Medsize</td>\n",
       "    </tr>\n",
       "    <tr>\n",
       "      <th>6847</th>\n",
       "      <td>KP97208</td>\n",
       "      <td>Oregon</td>\n",
       "      <td>No</td>\n",
       "      <td>Basic</td>\n",
       "      <td>College</td>\n",
       "      <td>Employed</td>\n",
       "      <td>F</td>\n",
       "      <td>Urban</td>\n",
       "      <td>Married</td>\n",
       "      <td>Corporate Auto</td>\n",
       "      <td>Corporate L2</td>\n",
       "      <td>Offer1</td>\n",
       "      <td>Agent</td>\n",
       "      <td>Two-Door Car</td>\n",
       "      <td>Medsize</td>\n",
       "    </tr>\n",
       "    <tr>\n",
       "      <th>6848</th>\n",
       "      <td>QK88438</td>\n",
       "      <td>Arizona</td>\n",
       "      <td>No</td>\n",
       "      <td>Basic</td>\n",
       "      <td>College</td>\n",
       "      <td>Employed</td>\n",
       "      <td>F</td>\n",
       "      <td>Rural</td>\n",
       "      <td>Single</td>\n",
       "      <td>Personal Auto</td>\n",
       "      <td>Personal L3</td>\n",
       "      <td>Offer2</td>\n",
       "      <td>Agent</td>\n",
       "      <td>Four-Door Car</td>\n",
       "      <td>Medsize</td>\n",
       "    </tr>\n",
       "    <tr>\n",
       "      <th>6849</th>\n",
       "      <td>HF15113</td>\n",
       "      <td>Oregon</td>\n",
       "      <td>No</td>\n",
       "      <td>Basic</td>\n",
       "      <td>Bachelor</td>\n",
       "      <td>Disabled</td>\n",
       "      <td>F</td>\n",
       "      <td>Suburban</td>\n",
       "      <td>Divorced</td>\n",
       "      <td>Personal Auto</td>\n",
       "      <td>Personal L3</td>\n",
       "      <td>Offer1</td>\n",
       "      <td>Web</td>\n",
       "      <td>Two-Door Car</td>\n",
       "      <td>Medsize</td>\n",
       "    </tr>\n",
       "  </tbody>\n",
       "</table>\n",
       "<p>6850 rows × 15 columns</p>\n",
       "</div>"
      ],
      "text/plain": [
       "     customer       state response coverage             education  \\\n",
       "0     CC30924      Oregon       No  Premium               College   \n",
       "1     MP85571     Arizona       No  Premium              Bachelor   \n",
       "2     FM54600  Washington       No  Premium  High School or Below   \n",
       "3     WW31823      Oregon       No    Basic  High School or Below   \n",
       "4     RJ80405     Arizona       No    Basic              Bachelor   \n",
       "...       ...         ...      ...      ...                   ...   \n",
       "6845  GA98025     Arizona       No    Basic              Bachelor   \n",
       "6846  EW27959  California       No    Basic              Bachelor   \n",
       "6847  KP97208      Oregon       No    Basic               College   \n",
       "6848  QK88438     Arizona       No    Basic               College   \n",
       "6849  HF15113      Oregon       No    Basic              Bachelor   \n",
       "\n",
       "     employmentstatus gender location_code marital_status     policy_type  \\\n",
       "0            Employed      M         Urban        Married  Corporate Auto   \n",
       "1          Unemployed      F      Suburban         Single   Personal Auto   \n",
       "2          Unemployed      F      Suburban         Single  Corporate Auto   \n",
       "3            Employed      F      Suburban        Married   Personal Auto   \n",
       "4            Employed      M      Suburban        Married   Personal Auto   \n",
       "...               ...    ...           ...            ...             ...   \n",
       "6845          Retired      M      Suburban         Single   Personal Auto   \n",
       "6846         Employed      F         Urban         Single   Personal Auto   \n",
       "6847         Employed      F         Urban        Married  Corporate Auto   \n",
       "6848         Employed      F         Rural         Single   Personal Auto   \n",
       "6849         Disabled      F      Suburban       Divorced   Personal Auto   \n",
       "\n",
       "            policy renew_offer_type sales_channel  vehicle_class vehicle_size  \n",
       "0     Corporate L3           Offer4         Agent     Sports Car        Small  \n",
       "1      Personal L2           Offer3         Agent            SUV      Medsize  \n",
       "2     Corporate L2           Offer2        Branch            SUV      Medsize  \n",
       "3      Personal L1           Offer1         Agent  Four-Door Car        Small  \n",
       "4      Personal L1           Offer3        Branch  Four-Door Car      Medsize  \n",
       "...            ...              ...           ...            ...          ...  \n",
       "6845   Personal L2           Offer1   Call Center            SUV      Medsize  \n",
       "6846   Personal L2           Offer1           Web  Four-Door Car      Medsize  \n",
       "6847  Corporate L2           Offer1         Agent   Two-Door Car      Medsize  \n",
       "6848   Personal L3           Offer2         Agent  Four-Door Car      Medsize  \n",
       "6849   Personal L3           Offer1           Web   Two-Door Car      Medsize  \n",
       "\n",
       "[6850 rows x 15 columns]"
      ]
     },
     "metadata": {},
     "output_type": "display_data"
    },
    {
     "data": {
      "text/plain": [
       "customer            object\n",
       "state               object\n",
       "response            object\n",
       "coverage            object\n",
       "education           object\n",
       "employmentstatus    object\n",
       "gender              object\n",
       "location_code       object\n",
       "marital_status      object\n",
       "policy_type         object\n",
       "policy              object\n",
       "renew_offer_type    object\n",
       "sales_channel       object\n",
       "vehicle_class       object\n",
       "vehicle_size        object\n",
       "dtype: object"
      ]
     },
     "metadata": {},
     "output_type": "display_data"
    },
    {
     "data": {
      "text/html": [
       "<div>\n",
       "<style scoped>\n",
       "    .dataframe tbody tr th:only-of-type {\n",
       "        vertical-align: middle;\n",
       "    }\n",
       "\n",
       "    .dataframe tbody tr th {\n",
       "        vertical-align: top;\n",
       "    }\n",
       "\n",
       "    .dataframe thead th {\n",
       "        text-align: right;\n",
       "    }\n",
       "</style>\n",
       "<table border=\"1\" class=\"dataframe\">\n",
       "  <thead>\n",
       "    <tr style=\"text-align: right;\">\n",
       "      <th></th>\n",
       "      <th>customer</th>\n",
       "      <th>state</th>\n",
       "      <th>response</th>\n",
       "      <th>coverage</th>\n",
       "      <th>education</th>\n",
       "      <th>employmentstatus</th>\n",
       "      <th>gender</th>\n",
       "      <th>location_code</th>\n",
       "      <th>marital_status</th>\n",
       "      <th>policy_type</th>\n",
       "      <th>policy</th>\n",
       "      <th>renew_offer_type</th>\n",
       "      <th>sales_channel</th>\n",
       "      <th>vehicle_class</th>\n",
       "      <th>vehicle_size</th>\n",
       "    </tr>\n",
       "  </thead>\n",
       "  <tbody>\n",
       "    <tr>\n",
       "      <th>0</th>\n",
       "      <td>XP92021</td>\n",
       "      <td>Oregon</td>\n",
       "      <td>No</td>\n",
       "      <td>Basic</td>\n",
       "      <td>High School or Below</td>\n",
       "      <td>Employed</td>\n",
       "      <td>F</td>\n",
       "      <td>Suburban</td>\n",
       "      <td>Divorced</td>\n",
       "      <td>Personal Auto</td>\n",
       "      <td>Personal L1</td>\n",
       "      <td>Offer1</td>\n",
       "      <td>Call Center</td>\n",
       "      <td>SUV</td>\n",
       "      <td>Medsize</td>\n",
       "    </tr>\n",
       "    <tr>\n",
       "      <th>1</th>\n",
       "      <td>XY52165</td>\n",
       "      <td>Arizona</td>\n",
       "      <td>No</td>\n",
       "      <td>Basic</td>\n",
       "      <td>College</td>\n",
       "      <td>Employed</td>\n",
       "      <td>F</td>\n",
       "      <td>Suburban</td>\n",
       "      <td>Married</td>\n",
       "      <td>Personal Auto</td>\n",
       "      <td>Personal L1</td>\n",
       "      <td>Offer1</td>\n",
       "      <td>Branch</td>\n",
       "      <td>Two-Door Car</td>\n",
       "      <td>Medsize</td>\n",
       "    </tr>\n",
       "    <tr>\n",
       "      <th>2</th>\n",
       "      <td>QJ65472</td>\n",
       "      <td>California</td>\n",
       "      <td>No</td>\n",
       "      <td>Premium</td>\n",
       "      <td>High School or Below</td>\n",
       "      <td>Medical Leave</td>\n",
       "      <td>M</td>\n",
       "      <td>Suburban</td>\n",
       "      <td>Single</td>\n",
       "      <td>Personal Auto</td>\n",
       "      <td>Personal L2</td>\n",
       "      <td>Offer1</td>\n",
       "      <td>Agent</td>\n",
       "      <td>Four-Door Car</td>\n",
       "      <td>Small</td>\n",
       "    </tr>\n",
       "    <tr>\n",
       "      <th>3</th>\n",
       "      <td>SG20925</td>\n",
       "      <td>Washington</td>\n",
       "      <td>No</td>\n",
       "      <td>Basic</td>\n",
       "      <td>Master</td>\n",
       "      <td>Employed</td>\n",
       "      <td>F</td>\n",
       "      <td>Rural</td>\n",
       "      <td>Married</td>\n",
       "      <td>Personal Auto</td>\n",
       "      <td>Personal L3</td>\n",
       "      <td>Offer1</td>\n",
       "      <td>Call Center</td>\n",
       "      <td>Four-Door Car</td>\n",
       "      <td>Medsize</td>\n",
       "    </tr>\n",
       "    <tr>\n",
       "      <th>4</th>\n",
       "      <td>SK12752</td>\n",
       "      <td>California</td>\n",
       "      <td>Yes</td>\n",
       "      <td>Basic</td>\n",
       "      <td>Bachelor</td>\n",
       "      <td>Unemployed</td>\n",
       "      <td>F</td>\n",
       "      <td>Suburban</td>\n",
       "      <td>Single</td>\n",
       "      <td>Corporate Auto</td>\n",
       "      <td>Corporate L3</td>\n",
       "      <td>Offer1</td>\n",
       "      <td>Web</td>\n",
       "      <td>Two-Door Car</td>\n",
       "      <td>Medsize</td>\n",
       "    </tr>\n",
       "    <tr>\n",
       "      <th>...</th>\n",
       "      <td>...</td>\n",
       "      <td>...</td>\n",
       "      <td>...</td>\n",
       "      <td>...</td>\n",
       "      <td>...</td>\n",
       "      <td>...</td>\n",
       "      <td>...</td>\n",
       "      <td>...</td>\n",
       "      <td>...</td>\n",
       "      <td>...</td>\n",
       "      <td>...</td>\n",
       "      <td>...</td>\n",
       "      <td>...</td>\n",
       "      <td>...</td>\n",
       "      <td>...</td>\n",
       "    </tr>\n",
       "    <tr>\n",
       "      <th>2279</th>\n",
       "      <td>DP23630</td>\n",
       "      <td>California</td>\n",
       "      <td>No</td>\n",
       "      <td>Basic</td>\n",
       "      <td>High School or Below</td>\n",
       "      <td>Unemployed</td>\n",
       "      <td>M</td>\n",
       "      <td>Suburban</td>\n",
       "      <td>Single</td>\n",
       "      <td>Personal Auto</td>\n",
       "      <td>Personal L3</td>\n",
       "      <td>Offer1</td>\n",
       "      <td>Agent</td>\n",
       "      <td>Four-Door Car</td>\n",
       "      <td>Large</td>\n",
       "    </tr>\n",
       "    <tr>\n",
       "      <th>2280</th>\n",
       "      <td>FH39423</td>\n",
       "      <td>Oregon</td>\n",
       "      <td>No</td>\n",
       "      <td>Basic</td>\n",
       "      <td>Master</td>\n",
       "      <td>Employed</td>\n",
       "      <td>F</td>\n",
       "      <td>Rural</td>\n",
       "      <td>Married</td>\n",
       "      <td>Personal Auto</td>\n",
       "      <td>Personal L2</td>\n",
       "      <td>Offer2</td>\n",
       "      <td>Call Center</td>\n",
       "      <td>Four-Door Car</td>\n",
       "      <td>Medsize</td>\n",
       "    </tr>\n",
       "    <tr>\n",
       "      <th>2281</th>\n",
       "      <td>BS53322</td>\n",
       "      <td>California</td>\n",
       "      <td>No</td>\n",
       "      <td>Basic</td>\n",
       "      <td>High School or Below</td>\n",
       "      <td>Employed</td>\n",
       "      <td>F</td>\n",
       "      <td>Urban</td>\n",
       "      <td>Married</td>\n",
       "      <td>Personal Auto</td>\n",
       "      <td>Personal L3</td>\n",
       "      <td>Offer2</td>\n",
       "      <td>Call Center</td>\n",
       "      <td>SUV</td>\n",
       "      <td>Small</td>\n",
       "    </tr>\n",
       "    <tr>\n",
       "      <th>2282</th>\n",
       "      <td>HJ79774</td>\n",
       "      <td>Oregon</td>\n",
       "      <td>No</td>\n",
       "      <td>Basic</td>\n",
       "      <td>College</td>\n",
       "      <td>Employed</td>\n",
       "      <td>F</td>\n",
       "      <td>Urban</td>\n",
       "      <td>Married</td>\n",
       "      <td>Corporate Auto</td>\n",
       "      <td>Corporate L1</td>\n",
       "      <td>Offer3</td>\n",
       "      <td>Branch</td>\n",
       "      <td>Four-Door Car</td>\n",
       "      <td>Medsize</td>\n",
       "    </tr>\n",
       "    <tr>\n",
       "      <th>2283</th>\n",
       "      <td>UC29668</td>\n",
       "      <td>Oregon</td>\n",
       "      <td>No</td>\n",
       "      <td>Basic</td>\n",
       "      <td>Master</td>\n",
       "      <td>Unemployed</td>\n",
       "      <td>F</td>\n",
       "      <td>Rural</td>\n",
       "      <td>Divorced</td>\n",
       "      <td>Corporate Auto</td>\n",
       "      <td>Corporate L3</td>\n",
       "      <td>Offer2</td>\n",
       "      <td>Branch</td>\n",
       "      <td>Two-Door Car</td>\n",
       "      <td>Medsize</td>\n",
       "    </tr>\n",
       "  </tbody>\n",
       "</table>\n",
       "<p>2284 rows × 15 columns</p>\n",
       "</div>"
      ],
      "text/plain": [
       "     customer       state response coverage             education  \\\n",
       "0     XP92021      Oregon       No    Basic  High School or Below   \n",
       "1     XY52165     Arizona       No    Basic               College   \n",
       "2     QJ65472  California       No  Premium  High School or Below   \n",
       "3     SG20925  Washington       No    Basic                Master   \n",
       "4     SK12752  California      Yes    Basic              Bachelor   \n",
       "...       ...         ...      ...      ...                   ...   \n",
       "2279  DP23630  California       No    Basic  High School or Below   \n",
       "2280  FH39423      Oregon       No    Basic                Master   \n",
       "2281  BS53322  California       No    Basic  High School or Below   \n",
       "2282  HJ79774      Oregon       No    Basic               College   \n",
       "2283  UC29668      Oregon       No    Basic                Master   \n",
       "\n",
       "     employmentstatus gender location_code marital_status     policy_type  \\\n",
       "0            Employed      F      Suburban       Divorced   Personal Auto   \n",
       "1            Employed      F      Suburban        Married   Personal Auto   \n",
       "2       Medical Leave      M      Suburban         Single   Personal Auto   \n",
       "3            Employed      F         Rural        Married   Personal Auto   \n",
       "4          Unemployed      F      Suburban         Single  Corporate Auto   \n",
       "...               ...    ...           ...            ...             ...   \n",
       "2279       Unemployed      M      Suburban         Single   Personal Auto   \n",
       "2280         Employed      F         Rural        Married   Personal Auto   \n",
       "2281         Employed      F         Urban        Married   Personal Auto   \n",
       "2282         Employed      F         Urban        Married  Corporate Auto   \n",
       "2283       Unemployed      F         Rural       Divorced  Corporate Auto   \n",
       "\n",
       "            policy renew_offer_type sales_channel  vehicle_class vehicle_size  \n",
       "0      Personal L1           Offer1   Call Center            SUV      Medsize  \n",
       "1      Personal L1           Offer1        Branch   Two-Door Car      Medsize  \n",
       "2      Personal L2           Offer1         Agent  Four-Door Car        Small  \n",
       "3      Personal L3           Offer1   Call Center  Four-Door Car      Medsize  \n",
       "4     Corporate L3           Offer1           Web   Two-Door Car      Medsize  \n",
       "...            ...              ...           ...            ...          ...  \n",
       "2279   Personal L3           Offer1         Agent  Four-Door Car        Large  \n",
       "2280   Personal L2           Offer2   Call Center  Four-Door Car      Medsize  \n",
       "2281   Personal L3           Offer2   Call Center            SUV        Small  \n",
       "2282  Corporate L1           Offer3        Branch  Four-Door Car      Medsize  \n",
       "2283  Corporate L3           Offer2        Branch   Two-Door Car      Medsize  \n",
       "\n",
       "[2284 rows x 15 columns]"
      ]
     },
     "metadata": {},
     "output_type": "display_data"
    },
    {
     "data": {
      "text/plain": [
       "customer            object\n",
       "state               object\n",
       "response            object\n",
       "coverage            object\n",
       "education           object\n",
       "employmentstatus    object\n",
       "gender              object\n",
       "location_code       object\n",
       "marital_status      object\n",
       "policy_type         object\n",
       "policy              object\n",
       "renew_offer_type    object\n",
       "sales_channel       object\n",
       "vehicle_class       object\n",
       "vehicle_size        object\n",
       "dtype: object"
      ]
     },
     "metadata": {},
     "output_type": "display_data"
    }
   ],
   "source": [
    "#TRAIN ++++++++++++++++++++++++++++++++++++++++++++++++++++++\n",
    "display(X_train_cat)\n",
    "display(X_train_cat.dtypes)\n",
    "#TEST +++++++++++++++++++++++++++++++++++++++++++++++++++++++\n",
    "display(X_test_cat)\n",
    "display(X_test_cat.dtypes)"
   ]
  },
  {
   "cell_type": "markdown",
   "metadata": {},
   "source": [
    "NO.\n",
    "\n",
    "policy,   policy_type,  vehicle_class  and customer have stings with numerical or just stings with 2 diff info"
   ]
  },
  {
   "cell_type": "markdown",
   "metadata": {},
   "source": [
    "6. Does any column contain alpha and numeric data?  Decide how to clean it.\n",
    "\n"
   ]
  },
  {
   "cell_type": "markdown",
   "metadata": {},
   "source": [
    "categorical_df['customer'] but is a customer_id.\n",
    "\n",
    "I have checked the diff rows and they are all diff values (1 value per row) so its like a reg-number or name_id and they are all unique so makes no sense to treat them, so i drop the Customer column."
   ]
  },
  {
   "cell_type": "markdown",
   "metadata": {},
   "source": [
    "I decide to drop Response as doesnt add info to the data set "
   ]
  },
  {
   "cell_type": "code",
   "execution_count": 32,
   "metadata": {},
   "outputs": [],
   "source": [
    "#TRAIN ++++++++++++++++++++++++++++++++++++++++++++++++++++++\n",
    "X_train_cat.drop(\"customer\", axis=1, inplace=True)\n",
    "X_train_cat.drop(\"response\", axis=1, inplace=True)\n",
    "#TEST  ++++++++++++++++++++++++++++++++++++++++++++++++++++++\n",
    "X_test_cat.drop(\"customer\", axis=1, inplace=True)\n",
    "X_test_cat.drop(\"response\", axis=1, inplace=True)\n"
   ]
  },
  {
   "cell_type": "markdown",
   "metadata": {},
   "source": [
    "7. Would you choose to do anything else to clean or wrangle the categorical data?  Comment your decisions.\n"
   ]
  },
  {
   "cell_type": "markdown",
   "metadata": {},
   "source": [
    "The processing I would do, is required in the next questions, like reducing the number of unique values by grouping, ...."
   ]
  },
  {
   "cell_type": "markdown",
   "metadata": {},
   "source": [
    "\n",
    "8. Compare policy_type and policy.  What information is contained in these columns.  Can you identify what is important?  \n"
   ]
  },
  {
   "cell_type": "code",
   "execution_count": 33,
   "metadata": {},
   "outputs": [
    {
     "data": {
      "text/plain": [
       "Personal Auto     5094\n",
       "Corporate Auto    1472\n",
       "Special Auto       284\n",
       "Name: policy_type, dtype: int64"
      ]
     },
     "execution_count": 33,
     "metadata": {},
     "output_type": "execute_result"
    }
   ],
   "source": [
    "X_train_cat['policy_type'].value_counts()"
   ]
  },
  {
   "cell_type": "markdown",
   "metadata": {},
   "source": [
    "Nothing to do as we cant group the values more than they are"
   ]
  },
  {
   "cell_type": "markdown",
   "metadata": {},
   "source": [
    "We can split policy and keep  as policy_type as per the info found about L1, L2, L3 in https://link.springer.com/article/10.1057/gpp.2010.5\n",
    "\n",
    "\"In selected countries, third-party liability covers a third party inside or outside the vehicle; it covers property damage (L1) or bodily injury (L2). The coverage for bodily injury due to an intoxicated driver (L3) is included in L2. Spousal liability (L4) covers the liability of death or injury to the spouse.\n",
    "\n",
    "They refer to the level of coverage of the policy. \n",
    "\n",
    "I am going to strip the type of policy as that inifo already appears in policy type "
   ]
  },
  {
   "cell_type": "code",
   "execution_count": 34,
   "metadata": {},
   "outputs": [],
   "source": [
    "#TRAIN ++++++++++++++++++++++++++++++++++++++++++++++++++++++\n",
    "# new data frame with split value columns\n",
    "new = X_train_cat['policy'].str.split(\" \", n = 1, expand = True)\n",
    "# # making separate last name column from new data frame\n",
    "X_train_cat[\"policy_coverage\"]= new[1]\n",
    "#TEST +++++++++++++++++++++++++++++++++++++++++++++++++++++++\n",
    "new2 = X_test_cat['policy'].str.split(\" \", n = 1, expand = True)\n",
    "# # making separate last name column from new data frame\n",
    "X_test_cat[\"policy_coverage\"]= new2[1]"
   ]
  },
  {
   "cell_type": "code",
   "execution_count": 35,
   "metadata": {},
   "outputs": [],
   "source": [
    "# Dropping policy column\n",
    "X_train_cat.drop(columns =['policy'], inplace = True, axis=1)\n",
    "X_test_cat.drop(columns =['policy'], inplace = True, axis=1)"
   ]
  },
  {
   "cell_type": "markdown",
   "metadata": {},
   "source": [
    "\n",
    "9. Check number of unique values in each column, can they be combined in any way to ease encoding?  Comment your thoughts and make those changes."
   ]
  },
  {
   "cell_type": "code",
   "execution_count": 36,
   "metadata": {},
   "outputs": [
    {
     "data": {
      "text/plain": [
       "California    2355\n",
       "Oregon        1972\n",
       "Arizona       1263\n",
       "Nevada         660\n",
       "Washington     600\n",
       "Name: state, dtype: int64"
      ]
     },
     "execution_count": 36,
     "metadata": {},
     "output_type": "execute_result"
    }
   ],
   "source": [
    "X_train_cat['state'].value_counts()"
   ]
  },
  {
   "cell_type": "code",
   "execution_count": 37,
   "metadata": {},
   "outputs": [],
   "source": [
    "# OneHotEncoder [['state']]\n",
    "encoder = OneHotEncoder(drop='first').fit(X_train_cat[['state']])\n",
    "#TRAIN ++++++++++++++++++++++++++++++++++++++++++++++++++++++\n",
    "encoded = encoder.transform(X_train_cat[['state']]).toarray() \n",
    "state_OH_tr = pd.DataFrame(encoded,columns=[\"California\",\"Oregon\", 'Arizona','Nevada']) \n",
    "X_train_cat.drop(columns =['state'], inplace = True, axis=1)\n",
    "X_train_cat = pd.concat([X_train_cat, state_OH_tr], axis=1)\n",
    "#TEST +++++++++++++++++++++++++++++++++++++++++++++++++++++++\n",
    "encoded = encoder.transform(X_test_cat[['state']]).toarray() \n",
    "state_OH_te = pd.DataFrame(encoded,columns=[\"California\",\"Oregon\", 'Arizona','Nevada']) \n",
    "X_test_cat.drop(columns =['state'], inplace = True, axis=1)\n",
    "X_test_cat = pd.concat([X_test_cat, state_OH_te], axis=1)"
   ]
  },
  {
   "cell_type": "code",
   "execution_count": 38,
   "metadata": {},
   "outputs": [],
   "source": [
    "# Ordinal Encoder [[\"coverage\"]]\n",
    "#TRAIN ++++++++++++++++++++++++++++++++++++++++++++++++++++++\n",
    "X_train_cat[\"coverage\"] = X_train_cat[\"coverage\"].map({\"Basic\" : 0, \"Extended\" : 1, \"Premium\" : 2})\n",
    "#TEST +++++++++++++++++++++++++++++++++++++++++++++++++++++++\n",
    "X_test_cat[\"coverage\"] = X_test_cat[\"coverage\"].map({\"Basic\" : 0, \"Extended\" : 1, \"Premium\" : 2})"
   ]
  },
  {
   "cell_type": "code",
   "execution_count": 39,
   "metadata": {},
   "outputs": [
    {
     "data": {
      "text/plain": [
       "Bachelor                2088\n",
       "College                 1989\n",
       "High School or Below    1954\n",
       "Master                   569\n",
       "Doctor                   250\n",
       "Name: education, dtype: int64"
      ]
     },
     "execution_count": 39,
     "metadata": {},
     "output_type": "execute_result"
    }
   ],
   "source": [
    "X_train_cat[\"education\"].value_counts()"
   ]
  },
  {
   "cell_type": "code",
   "execution_count": 40,
   "metadata": {},
   "outputs": [],
   "source": [
    "# Here we could , first group in \"High Scool or below\" , \"College\", and \"Graduate or higher\" \n",
    "#TRAIN ++++++++++++++++++++++++++++++++++++++++++++++++++++++\n",
    "X_train_cat[\"education\"] = np.where(X_train_cat[\"education\"].isin(['Bachelor','Master','Doctor']), 'Graduate or higher', X_train_cat[\"education\"])\n",
    "#TEST  ++++++++++++++++++++++++++++++++++++++++++++++++++++++\n",
    "X_test_cat[\"education\"] = np.where(X_test_cat[\"education\"].isin(['Bachelor','Master','Doctor']), 'Graduate or higher', X_test_cat[\"education\"])"
   ]
  },
  {
   "cell_type": "code",
   "execution_count": 41,
   "metadata": {},
   "outputs": [
    {
     "data": {
      "text/plain": [
       "Graduate or higher      2907\n",
       "College                 1989\n",
       "High School or Below    1954\n",
       "Name: education, dtype: int64"
      ]
     },
     "execution_count": 41,
     "metadata": {},
     "output_type": "execute_result"
    }
   ],
   "source": [
    "X_train_cat[\"education\"].value_counts()"
   ]
  },
  {
   "cell_type": "code",
   "execution_count": 42,
   "metadata": {},
   "outputs": [],
   "source": [
    "# OneHotEncoder  [['education']]\n",
    "encoder = OneHotEncoder(drop='first').fit(X_train_cat[['education']])\n",
    "#TRAIN ++++++++++++++++++++++++++++++++++++++++++++++++++++++\n",
    "encoded = encoder.transform(X_train_cat[['education']]).toarray() \n",
    "edu_OH_tr = pd.DataFrame(encoded,columns=[\"Graduate or higher\",\"College\"]) \n",
    "X_train_cat.drop(columns =['education'], inplace = True, axis=1)\n",
    "X_train_cat = pd.concat([X_train_cat, edu_OH_tr], axis=1)\n",
    "#TEST +++++++++++++++++++++++++++++++++++++++++++++++++++++++\n",
    "encoded = encoder.transform(X_test_cat[['education']]).toarray() \n",
    "edu_OH_te = pd.DataFrame(encoded,columns=[\"Graduate or higher\",\"College\"]) \n",
    "X_test_cat.drop(columns =['education'], inplace = True, axis=1)\n",
    "X_test_cat = pd.concat([X_test_cat, edu_OH_te], axis=1)"
   ]
  },
  {
   "cell_type": "code",
   "execution_count": 43,
   "metadata": {},
   "outputs": [
    {
     "data": {
      "text/plain": [
       "Employed         4294\n",
       "Unemployed       1731\n",
       "Medical Leave     326\n",
       "Disabled          294\n",
       "Retired           205\n",
       "Name: employmentstatus, dtype: int64"
      ]
     },
     "execution_count": 43,
     "metadata": {},
     "output_type": "execute_result"
    }
   ],
   "source": [
    "X_train_cat[\"employmentstatus\"].value_counts()\n",
    "#Here we could regroup in. Employed / UNEMPLOYED  and UNABLE"
   ]
  },
  {
   "cell_type": "code",
   "execution_count": 44,
   "metadata": {},
   "outputs": [],
   "source": [
    "#Ordinal Encoder [[\"employmentstatus\"]]\n",
    "#TRAIN  +++++++++++++++++++++++++++++++++++++++++++++++++++++\n",
    "X_train_cat[\"employmentstatus\"] = np.where(X_train_cat[\"employmentstatus\"].isin(['Medical Leave','Disabled','Retired']), 'Unable', X_train_cat[\"employmentstatus\"])\n",
    "X_train_cat[\"employmentstatus\"] = X_train_cat[\"employmentstatus\"].map({\"Unable\" : 0, \"Unemployed\" : 1, \"Employed\" : 2})\n",
    "#TEST  ++++++++++++++++++++++++++++++++++++++++++++++++++++++\n",
    "X_test_cat[\"employmentstatus\"] = np.where(X_test_cat[\"employmentstatus\"].isin(['Medical Leave','Disabled','Retired']), 'Unable', X_test_cat[\"employmentstatus\"])\n",
    "X_test_cat[\"employmentstatus\"] = X_test_cat[\"employmentstatus\"].map({\"Unable\" : 0, \"Unemployed\" : 1, \"Employed\" : 2})\n"
   ]
  },
  {
   "cell_type": "code",
   "execution_count": 45,
   "metadata": {},
   "outputs": [
    {
     "data": {
      "text/plain": [
       "F    1183\n",
       "M    1101\n",
       "Name: gender, dtype: int64"
      ]
     },
     "execution_count": 45,
     "metadata": {},
     "output_type": "execute_result"
    }
   ],
   "source": [
    "X_test_cat[\"gender\"].value_counts()"
   ]
  },
  {
   "cell_type": "code",
   "execution_count": 46,
   "metadata": {},
   "outputs": [],
   "source": [
    "# LabelEncoder [[\"gender\"]]\n",
    "label_encoded_tr = LabelEncoder().fit(X_train_cat[\"gender\"]).transform(X_train_cat[\"gender\"]) \n",
    "#TRAIN  +++++++++++++++++++++++++++++++++++++++++++++++++++++\n",
    "gen_label_tr = pd.DataFrame(label_encoded_tr,columns=[\"gender\"])\n",
    "X_train_cat.drop(columns =['gender'], inplace = True, axis=1)\n",
    "X_train_cat = pd.concat([X_train_cat, gen_label_tr], axis=1)\n",
    "\n",
    "#TEST   +++++++++++++++++++++++++++++++++++++++++++++++++++++\n",
    "label_encoded_ts = LabelEncoder().fit(X_test_cat[\"gender\"]).transform(X_test_cat[\"gender\"]) \n",
    "gen_label_ts = pd.DataFrame(label_encoded_ts,columns=[\"gender\"])\n",
    "X_test_cat.drop(columns =['gender'], inplace = True, axis=1)\n",
    "X_test_cat = pd.concat([X_test_cat, gen_label_ts], axis=1)"
   ]
  },
  {
   "cell_type": "code",
   "execution_count": 47,
   "metadata": {},
   "outputs": [],
   "source": [
    "# OneHotEncoder: [['marital_status']]\n",
    "encoder = OneHotEncoder(drop='first').fit(X_train_cat[['marital_status']])\n",
    "#TRAIN ++++++++++++++++++++++++++++++++++++++++++++++++++++++\n",
    "encoded_tr = encoder.transform(X_train_cat[['marital_status']]).toarray() \n",
    "mar_OH_tr = pd.DataFrame(encoded_tr,columns=[\"Married\",\"Single \"]) \n",
    "X_train_cat.drop(columns =['marital_status'], inplace = True, axis=1)\n",
    "X_train_cat = pd.concat([X_train_cat, mar_OH_tr], axis=1)\n",
    "#TEST +++++++++++++++++++++++++++++++++++++++++++++++++++++++\n",
    "encoded_ts = encoder.transform(X_test_cat[['marital_status']]).toarray() \n",
    "mar_OH_ts = pd.DataFrame(encoded_ts,columns=[\"Married\",\"Single \"]) \n",
    "X_test_cat.drop(columns =['marital_status'], inplace = True, axis=1)\n",
    "X_test_cat = pd.concat([X_test_cat, mar_OH_ts], axis=1)"
   ]
  },
  {
   "cell_type": "code",
   "execution_count": 48,
   "metadata": {},
   "outputs": [
    {
     "data": {
      "text/plain": [
       "Offer1    2825\n",
       "Offer2    2176\n",
       "Offer3    1062\n",
       "Offer4     787\n",
       "Name: renew_offer_type, dtype: int64"
      ]
     },
     "execution_count": 48,
     "metadata": {},
     "output_type": "execute_result"
    }
   ],
   "source": [
    "X_train_cat[\"renew_offer_type\"].value_counts()"
   ]
  },
  {
   "cell_type": "code",
   "execution_count": 49,
   "metadata": {},
   "outputs": [],
   "source": [
    "#OneHotEncoder [['renew_offer_type']]\n",
    "encoder = OneHotEncoder(drop='first').fit(X_train_cat[['renew_offer_type']])  \n",
    "#TRAIN ++++++++++++++++++++++++++++++++++++++++++++++++++++++\n",
    "encoded_tr = encoder.transform(X_train_cat[['renew_offer_type']]).toarray() \n",
    "offer_oh = pd.DataFrame(encoded_tr,columns=[\"Offer1\",\"Offer2\",\"Offer3\"])\n",
    "X_train_cat.drop(columns =['renew_offer_type'], inplace = True, axis=1)\n",
    "X_train_cat = pd.concat([X_train_cat, offer_oh], axis=1)\n",
    "#TEST +++++++++++++++++++++++++++++++++++++++++++++++++++++++\n",
    "encoded_ts = encoder.transform(X_test_cat[['renew_offer_type']]).toarray() \n",
    "offer_oh = pd.DataFrame(encoded_ts,columns=[\"Offer1\",\"Offer2\",\"Offer3\"])\n",
    "X_test_cat.drop(columns =['renew_offer_type'], inplace = True, axis=1)\n",
    "X_test_cat = pd.concat([X_test_cat, offer_oh], axis=1)"
   ]
  },
  {
   "cell_type": "code",
   "execution_count": 50,
   "metadata": {},
   "outputs": [
    {
     "data": {
      "text/plain": [
       "Agent          858\n",
       "Branch         625\n",
       "Call Center    459\n",
       "Web            342\n",
       "Name: sales_channel, dtype: int64"
      ]
     },
     "execution_count": 50,
     "metadata": {},
     "output_type": "execute_result"
    }
   ],
   "source": [
    "X_test_cat[\"sales_channel\"].value_counts()"
   ]
  },
  {
   "cell_type": "code",
   "execution_count": 51,
   "metadata": {},
   "outputs": [
    {
     "data": {
      "text/html": [
       "<div>\n",
       "<style scoped>\n",
       "    .dataframe tbody tr th:only-of-type {\n",
       "        vertical-align: middle;\n",
       "    }\n",
       "\n",
       "    .dataframe tbody tr th {\n",
       "        vertical-align: top;\n",
       "    }\n",
       "\n",
       "    .dataframe thead th {\n",
       "        text-align: right;\n",
       "    }\n",
       "</style>\n",
       "<table border=\"1\" class=\"dataframe\">\n",
       "  <thead>\n",
       "    <tr style=\"text-align: right;\">\n",
       "      <th></th>\n",
       "      <th>coverage</th>\n",
       "      <th>employmentstatus</th>\n",
       "      <th>location_code</th>\n",
       "      <th>policy_type</th>\n",
       "      <th>sales_channel</th>\n",
       "      <th>vehicle_class</th>\n",
       "      <th>vehicle_size</th>\n",
       "      <th>policy_coverage</th>\n",
       "      <th>California</th>\n",
       "      <th>Oregon</th>\n",
       "      <th>Arizona</th>\n",
       "      <th>Nevada</th>\n",
       "      <th>Graduate or higher</th>\n",
       "      <th>College</th>\n",
       "      <th>gender</th>\n",
       "      <th>Married</th>\n",
       "      <th>Single</th>\n",
       "      <th>Offer1</th>\n",
       "      <th>Offer2</th>\n",
       "      <th>Offer3</th>\n",
       "    </tr>\n",
       "  </thead>\n",
       "  <tbody>\n",
       "    <tr>\n",
       "      <th>0</th>\n",
       "      <td>0</td>\n",
       "      <td>2</td>\n",
       "      <td>Suburban</td>\n",
       "      <td>Personal Auto</td>\n",
       "      <td>Call Center</td>\n",
       "      <td>SUV</td>\n",
       "      <td>Medsize</td>\n",
       "      <td>L1</td>\n",
       "      <td>0.0</td>\n",
       "      <td>0.0</td>\n",
       "      <td>1.0</td>\n",
       "      <td>0.0</td>\n",
       "      <td>0.0</td>\n",
       "      <td>1.0</td>\n",
       "      <td>0</td>\n",
       "      <td>0.0</td>\n",
       "      <td>0.0</td>\n",
       "      <td>0.0</td>\n",
       "      <td>0.0</td>\n",
       "      <td>0.0</td>\n",
       "    </tr>\n",
       "    <tr>\n",
       "      <th>1</th>\n",
       "      <td>0</td>\n",
       "      <td>2</td>\n",
       "      <td>Suburban</td>\n",
       "      <td>Personal Auto</td>\n",
       "      <td>Branch</td>\n",
       "      <td>Two-Door Car</td>\n",
       "      <td>Medsize</td>\n",
       "      <td>L1</td>\n",
       "      <td>0.0</td>\n",
       "      <td>0.0</td>\n",
       "      <td>0.0</td>\n",
       "      <td>0.0</td>\n",
       "      <td>0.0</td>\n",
       "      <td>0.0</td>\n",
       "      <td>0</td>\n",
       "      <td>1.0</td>\n",
       "      <td>0.0</td>\n",
       "      <td>0.0</td>\n",
       "      <td>0.0</td>\n",
       "      <td>0.0</td>\n",
       "    </tr>\n",
       "    <tr>\n",
       "      <th>2</th>\n",
       "      <td>2</td>\n",
       "      <td>0</td>\n",
       "      <td>Suburban</td>\n",
       "      <td>Personal Auto</td>\n",
       "      <td>Agent</td>\n",
       "      <td>Four-Door Car</td>\n",
       "      <td>Small</td>\n",
       "      <td>L2</td>\n",
       "      <td>1.0</td>\n",
       "      <td>0.0</td>\n",
       "      <td>0.0</td>\n",
       "      <td>0.0</td>\n",
       "      <td>0.0</td>\n",
       "      <td>1.0</td>\n",
       "      <td>1</td>\n",
       "      <td>0.0</td>\n",
       "      <td>1.0</td>\n",
       "      <td>0.0</td>\n",
       "      <td>0.0</td>\n",
       "      <td>0.0</td>\n",
       "    </tr>\n",
       "    <tr>\n",
       "      <th>3</th>\n",
       "      <td>0</td>\n",
       "      <td>2</td>\n",
       "      <td>Rural</td>\n",
       "      <td>Personal Auto</td>\n",
       "      <td>Call Center</td>\n",
       "      <td>Four-Door Car</td>\n",
       "      <td>Medsize</td>\n",
       "      <td>L3</td>\n",
       "      <td>0.0</td>\n",
       "      <td>0.0</td>\n",
       "      <td>0.0</td>\n",
       "      <td>1.0</td>\n",
       "      <td>1.0</td>\n",
       "      <td>0.0</td>\n",
       "      <td>0</td>\n",
       "      <td>1.0</td>\n",
       "      <td>0.0</td>\n",
       "      <td>0.0</td>\n",
       "      <td>0.0</td>\n",
       "      <td>0.0</td>\n",
       "    </tr>\n",
       "    <tr>\n",
       "      <th>4</th>\n",
       "      <td>0</td>\n",
       "      <td>1</td>\n",
       "      <td>Suburban</td>\n",
       "      <td>Corporate Auto</td>\n",
       "      <td>Web</td>\n",
       "      <td>Two-Door Car</td>\n",
       "      <td>Medsize</td>\n",
       "      <td>L3</td>\n",
       "      <td>1.0</td>\n",
       "      <td>0.0</td>\n",
       "      <td>0.0</td>\n",
       "      <td>0.0</td>\n",
       "      <td>1.0</td>\n",
       "      <td>0.0</td>\n",
       "      <td>0</td>\n",
       "      <td>0.0</td>\n",
       "      <td>1.0</td>\n",
       "      <td>0.0</td>\n",
       "      <td>0.0</td>\n",
       "      <td>0.0</td>\n",
       "    </tr>\n",
       "    <tr>\n",
       "      <th>...</th>\n",
       "      <td>...</td>\n",
       "      <td>...</td>\n",
       "      <td>...</td>\n",
       "      <td>...</td>\n",
       "      <td>...</td>\n",
       "      <td>...</td>\n",
       "      <td>...</td>\n",
       "      <td>...</td>\n",
       "      <td>...</td>\n",
       "      <td>...</td>\n",
       "      <td>...</td>\n",
       "      <td>...</td>\n",
       "      <td>...</td>\n",
       "      <td>...</td>\n",
       "      <td>...</td>\n",
       "      <td>...</td>\n",
       "      <td>...</td>\n",
       "      <td>...</td>\n",
       "      <td>...</td>\n",
       "      <td>...</td>\n",
       "    </tr>\n",
       "    <tr>\n",
       "      <th>2279</th>\n",
       "      <td>0</td>\n",
       "      <td>1</td>\n",
       "      <td>Suburban</td>\n",
       "      <td>Personal Auto</td>\n",
       "      <td>Agent</td>\n",
       "      <td>Four-Door Car</td>\n",
       "      <td>Large</td>\n",
       "      <td>L3</td>\n",
       "      <td>1.0</td>\n",
       "      <td>0.0</td>\n",
       "      <td>0.0</td>\n",
       "      <td>0.0</td>\n",
       "      <td>0.0</td>\n",
       "      <td>1.0</td>\n",
       "      <td>1</td>\n",
       "      <td>0.0</td>\n",
       "      <td>1.0</td>\n",
       "      <td>0.0</td>\n",
       "      <td>0.0</td>\n",
       "      <td>0.0</td>\n",
       "    </tr>\n",
       "    <tr>\n",
       "      <th>2280</th>\n",
       "      <td>0</td>\n",
       "      <td>2</td>\n",
       "      <td>Rural</td>\n",
       "      <td>Personal Auto</td>\n",
       "      <td>Call Center</td>\n",
       "      <td>Four-Door Car</td>\n",
       "      <td>Medsize</td>\n",
       "      <td>L2</td>\n",
       "      <td>0.0</td>\n",
       "      <td>0.0</td>\n",
       "      <td>1.0</td>\n",
       "      <td>0.0</td>\n",
       "      <td>1.0</td>\n",
       "      <td>0.0</td>\n",
       "      <td>0</td>\n",
       "      <td>1.0</td>\n",
       "      <td>0.0</td>\n",
       "      <td>1.0</td>\n",
       "      <td>0.0</td>\n",
       "      <td>0.0</td>\n",
       "    </tr>\n",
       "    <tr>\n",
       "      <th>2281</th>\n",
       "      <td>0</td>\n",
       "      <td>2</td>\n",
       "      <td>Urban</td>\n",
       "      <td>Personal Auto</td>\n",
       "      <td>Call Center</td>\n",
       "      <td>SUV</td>\n",
       "      <td>Small</td>\n",
       "      <td>L3</td>\n",
       "      <td>1.0</td>\n",
       "      <td>0.0</td>\n",
       "      <td>0.0</td>\n",
       "      <td>0.0</td>\n",
       "      <td>0.0</td>\n",
       "      <td>1.0</td>\n",
       "      <td>0</td>\n",
       "      <td>1.0</td>\n",
       "      <td>0.0</td>\n",
       "      <td>1.0</td>\n",
       "      <td>0.0</td>\n",
       "      <td>0.0</td>\n",
       "    </tr>\n",
       "    <tr>\n",
       "      <th>2282</th>\n",
       "      <td>0</td>\n",
       "      <td>2</td>\n",
       "      <td>Urban</td>\n",
       "      <td>Corporate Auto</td>\n",
       "      <td>Branch</td>\n",
       "      <td>Four-Door Car</td>\n",
       "      <td>Medsize</td>\n",
       "      <td>L1</td>\n",
       "      <td>0.0</td>\n",
       "      <td>0.0</td>\n",
       "      <td>1.0</td>\n",
       "      <td>0.0</td>\n",
       "      <td>0.0</td>\n",
       "      <td>0.0</td>\n",
       "      <td>0</td>\n",
       "      <td>1.0</td>\n",
       "      <td>0.0</td>\n",
       "      <td>0.0</td>\n",
       "      <td>1.0</td>\n",
       "      <td>0.0</td>\n",
       "    </tr>\n",
       "    <tr>\n",
       "      <th>2283</th>\n",
       "      <td>0</td>\n",
       "      <td>1</td>\n",
       "      <td>Rural</td>\n",
       "      <td>Corporate Auto</td>\n",
       "      <td>Branch</td>\n",
       "      <td>Two-Door Car</td>\n",
       "      <td>Medsize</td>\n",
       "      <td>L3</td>\n",
       "      <td>0.0</td>\n",
       "      <td>0.0</td>\n",
       "      <td>1.0</td>\n",
       "      <td>0.0</td>\n",
       "      <td>1.0</td>\n",
       "      <td>0.0</td>\n",
       "      <td>0</td>\n",
       "      <td>0.0</td>\n",
       "      <td>0.0</td>\n",
       "      <td>1.0</td>\n",
       "      <td>0.0</td>\n",
       "      <td>0.0</td>\n",
       "    </tr>\n",
       "  </tbody>\n",
       "</table>\n",
       "<p>2284 rows × 20 columns</p>\n",
       "</div>"
      ],
      "text/plain": [
       "      coverage  employmentstatus location_code     policy_type sales_channel  \\\n",
       "0            0                 2      Suburban   Personal Auto   Call Center   \n",
       "1            0                 2      Suburban   Personal Auto        Branch   \n",
       "2            2                 0      Suburban   Personal Auto         Agent   \n",
       "3            0                 2         Rural   Personal Auto   Call Center   \n",
       "4            0                 1      Suburban  Corporate Auto           Web   \n",
       "...        ...               ...           ...             ...           ...   \n",
       "2279         0                 1      Suburban   Personal Auto         Agent   \n",
       "2280         0                 2         Rural   Personal Auto   Call Center   \n",
       "2281         0                 2         Urban   Personal Auto   Call Center   \n",
       "2282         0                 2         Urban  Corporate Auto        Branch   \n",
       "2283         0                 1         Rural  Corporate Auto        Branch   \n",
       "\n",
       "      vehicle_class vehicle_size policy_coverage  California  Oregon  Arizona  \\\n",
       "0               SUV      Medsize              L1         0.0     0.0      1.0   \n",
       "1      Two-Door Car      Medsize              L1         0.0     0.0      0.0   \n",
       "2     Four-Door Car        Small              L2         1.0     0.0      0.0   \n",
       "3     Four-Door Car      Medsize              L3         0.0     0.0      0.0   \n",
       "4      Two-Door Car      Medsize              L3         1.0     0.0      0.0   \n",
       "...             ...          ...             ...         ...     ...      ...   \n",
       "2279  Four-Door Car        Large              L3         1.0     0.0      0.0   \n",
       "2280  Four-Door Car      Medsize              L2         0.0     0.0      1.0   \n",
       "2281            SUV        Small              L3         1.0     0.0      0.0   \n",
       "2282  Four-Door Car      Medsize              L1         0.0     0.0      1.0   \n",
       "2283   Two-Door Car      Medsize              L3         0.0     0.0      1.0   \n",
       "\n",
       "      Nevada  Graduate or higher  College  gender  Married  Single   Offer1  \\\n",
       "0        0.0                 0.0      1.0       0      0.0      0.0     0.0   \n",
       "1        0.0                 0.0      0.0       0      1.0      0.0     0.0   \n",
       "2        0.0                 0.0      1.0       1      0.0      1.0     0.0   \n",
       "3        1.0                 1.0      0.0       0      1.0      0.0     0.0   \n",
       "4        0.0                 1.0      0.0       0      0.0      1.0     0.0   \n",
       "...      ...                 ...      ...     ...      ...      ...     ...   \n",
       "2279     0.0                 0.0      1.0       1      0.0      1.0     0.0   \n",
       "2280     0.0                 1.0      0.0       0      1.0      0.0     1.0   \n",
       "2281     0.0                 0.0      1.0       0      1.0      0.0     1.0   \n",
       "2282     0.0                 0.0      0.0       0      1.0      0.0     0.0   \n",
       "2283     0.0                 1.0      0.0       0      0.0      0.0     1.0   \n",
       "\n",
       "      Offer2  Offer3  \n",
       "0        0.0     0.0  \n",
       "1        0.0     0.0  \n",
       "2        0.0     0.0  \n",
       "3        0.0     0.0  \n",
       "4        0.0     0.0  \n",
       "...      ...     ...  \n",
       "2279     0.0     0.0  \n",
       "2280     0.0     0.0  \n",
       "2281     0.0     0.0  \n",
       "2282     1.0     0.0  \n",
       "2283     0.0     0.0  \n",
       "\n",
       "[2284 rows x 20 columns]"
      ]
     },
     "execution_count": 51,
     "metadata": {},
     "output_type": "execute_result"
    }
   ],
   "source": [
    "X_test_cat\n"
   ]
  },
  {
   "cell_type": "code",
   "execution_count": 52,
   "metadata": {},
   "outputs": [],
   "source": [
    "#OneHotEncoder [['sales_channel']]\n",
    "encoder = OneHotEncoder(drop='first').fit(X_train_cat[[\"sales_channel\"]])  \n",
    "#TRAIN ++++++++++++++++++++++++++++++++++++++++++++++++++++++\n",
    "encoded_tr = encoder.transform(X_train_cat[[\"sales_channel\"]]).toarray() \n",
    "sales_oh = pd.DataFrame(encoded_tr,columns=[\"Agent\",\"Branch\",\"Call Center\"])\n",
    "X_train_cat.drop(columns =['sales_channel'], inplace = True, axis=1)\n",
    "X_train_cat = pd.concat([X_train_cat, sales_oh], axis=1)\n",
    "#TEST +++++++++++++++++++++++++++++++++++++++++++++++++++++++\n",
    "encoded_ts = encoder.transform(X_test_cat[['sales_channel']]).toarray() \n",
    "sales_oh = pd.DataFrame(encoded_ts,columns=[\"Agent\",\"Branch\",\"Call Center\"])\n",
    "X_test_cat.drop(columns =['sales_channel'], inplace = True, axis=1)\n",
    "X_test_cat = pd.concat([X_test_cat, sales_oh], axis=1)"
   ]
  },
  {
   "cell_type": "code",
   "execution_count": 54,
   "metadata": {},
   "outputs": [
    {
     "data": {
      "text/plain": [
       "Four-Door Car    1127\n",
       "Two-Door Car      498\n",
       "SUV               452\n",
       "Sports Car        114\n",
       "Luxury SUV         47\n",
       "Luxury Car         46\n",
       "Name: vehicle_class, dtype: int64"
      ]
     },
     "execution_count": 54,
     "metadata": {},
     "output_type": "execute_result"
    }
   ],
   "source": [
    "X_test_cat[\"vehicle_class\"].value_counts()"
   ]
  },
  {
   "cell_type": "code",
   "execution_count": 55,
   "metadata": {},
   "outputs": [],
   "source": [
    "# We can join cars (2 and 4 doors) and luxury and leave just car and SUV\n",
    "#TRAIN ++++++++++++++++++++++++++++++++++++++++++++++++++++++\n",
    "X_train_cat[\"vehicle_class\"] = np.where(X_train_cat[\"vehicle_class\"].isin(['Four-Door Car','Two-Door Car', 'Luxury Car','Sports Car' ]),\n",
    "                                           'Car', X_train_cat[\"vehicle_class\"])\n",
    "X_train_cat[\"vehicle_class\"] = np.where(X_train_cat[\"vehicle_class\"].isin(['Luxury SUV']),\n",
    "                                           'SUV', X_train_cat[\"vehicle_class\"])\n",
    "\n",
    "#TEST +++++++++++++++++++++++++++++++++++++++++++++++++++++++\n",
    "X_test_cat[\"vehicle_class\"] = np.where(X_test_cat[\"vehicle_class\"].isin(['Four-Door Car','Two-Door Car', 'Luxury Car','Sports Car' ]),\n",
    "                                           'Car', X_test_cat[\"vehicle_class\"])\n",
    "X_test_cat[\"vehicle_class\"] = np.where(X_test_cat[\"vehicle_class\"].isin(['Luxury SUV']),\n",
    "                                           'SUV', X_test_cat[\"vehicle_class\"])\n"
   ]
  },
  {
   "cell_type": "code",
   "execution_count": 56,
   "metadata": {},
   "outputs": [
    {
     "data": {
      "text/plain": [
       "Car    1785\n",
       "SUV     499\n",
       "Name: vehicle_class, dtype: int64"
      ]
     },
     "execution_count": 56,
     "metadata": {},
     "output_type": "execute_result"
    }
   ],
   "source": [
    "X_test_cat[\"vehicle_class\"].value_counts()"
   ]
  },
  {
   "cell_type": "code",
   "execution_count": 57,
   "metadata": {},
   "outputs": [],
   "source": [
    "#LabelEncoder [[\"vehicle_class\"]]\n",
    "#TRAIN ++++++++++++++++++++++++++++++++++++++++++++++++++++++\n",
    "label_encoded = LabelEncoder().fit(X_train_cat[\"vehicle_class\"]).transform(X_train_cat[\"vehicle_class\"]) \n",
    "vehi_le_tr = pd.DataFrame(label_encoded,columns=[\"vehicle_class\"])\n",
    "X_train_cat.drop(columns =['vehicle_class'], inplace = True, axis=1)\n",
    "X_train_cat = pd.concat([X_train_cat, vehi_le_tr], axis=1)\n",
    "#TRAIN ++++++++++++++++++++++++++++++++++++++++++++++++++++++\n",
    "label_encoded = LabelEncoder().fit(X_test_cat[\"vehicle_class\"]).transform(X_test_cat[\"vehicle_class\"]) \n",
    "vehi_le_ts = pd.DataFrame(label_encoded,columns=[\"vehicle_class\"])\n",
    "X_test_cat.drop(columns =['vehicle_class'], inplace = True, axis=1)\n",
    "X_test_cat = pd.concat([X_test_cat, vehi_le_ts], axis=1)"
   ]
  },
  {
   "cell_type": "code",
   "execution_count": 58,
   "metadata": {},
   "outputs": [
    {
     "data": {
      "text/plain": [
       "Medsize    4862\n",
       "Small      1282\n",
       "Large       706\n",
       "Name: vehicle_size, dtype: int64"
      ]
     },
     "execution_count": 58,
     "metadata": {},
     "output_type": "execute_result"
    }
   ],
   "source": [
    "X_train_cat[\"vehicle_size\"].value_counts()"
   ]
  },
  {
   "cell_type": "code",
   "execution_count": 59,
   "metadata": {},
   "outputs": [],
   "source": [
    "# Ordinal Encoder [[\"vehicle_size\"]]\n",
    "scale_mapper = {\"Small\":1, \"Medsize\":2, \"Large\":3}\n",
    "#TRAIN ++++++++++++++++++++++++++++++++++++++++++++++++++++++\n",
    "X_train_cat[\"vehicle_size\"] = X_train_cat[[\"vehicle_size\"]].replace(scale_mapper)\n",
    "vehi_size_ord_tr = X_train_cat[\"vehicle_size\"]\n",
    "#TEST ++++++++++++++++++++++++++++++++++++++++++++++++++++++\n",
    "X_test_cat[\"vehicle_size\"] = X_test_cat[[\"vehicle_size\"]].replace(scale_mapper)\n",
    "vehi_size_ord_ts = X_test_cat[\"vehicle_size\"]"
   ]
  },
  {
   "cell_type": "code",
   "execution_count": 60,
   "metadata": {},
   "outputs": [
    {
     "data": {
      "text/plain": [
       "Suburban    4322\n",
       "Rural       1345\n",
       "Urban       1183\n",
       "Name: location_code, dtype: int64"
      ]
     },
     "execution_count": 60,
     "metadata": {},
     "output_type": "execute_result"
    }
   ],
   "source": [
    "X_train_cat[\"location_code\"].value_counts()"
   ]
  },
  {
   "cell_type": "code",
   "execution_count": 61,
   "metadata": {},
   "outputs": [],
   "source": [
    "# Ordinal Encoder [[\"location_code\"]] As for the insurance company is m0re risky urban than rural \n",
    "scale_mapper = {\"Rural\":1, \"Suburban\":2, \"Urban\":3}\n",
    "#TRAIN ++++++++++++++++++++++++++++++++++++++++++++++++++++++\n",
    "X_train_cat[\"location_code\"] = X_train_cat[[\"location_code\"]].replace(scale_mapper)\n",
    "vehi_size_ord_tr = X_train_cat[\"location_code\"]\n",
    "#TEST ++++++++++++++++++++++++++++++++++++++++++++++++++++++\n",
    "X_test_cat[\"location_code\"] = X_test_cat[[\"location_code\"]].replace(scale_mapper)\n",
    "vehi_size_ord_ts = X_test_cat[\"location_code\"]"
   ]
  },
  {
   "cell_type": "code",
   "execution_count": 62,
   "metadata": {},
   "outputs": [
    {
     "data": {
      "text/plain": [
       "Personal Auto     1694\n",
       "Corporate Auto     496\n",
       "Special Auto        94\n",
       "Name: policy_type, dtype: int64"
      ]
     },
     "execution_count": 62,
     "metadata": {},
     "output_type": "execute_result"
    }
   ],
   "source": [
    "X_test_cat[\"policy_type\"].value_counts()"
   ]
  },
  {
   "cell_type": "code",
   "execution_count": 63,
   "metadata": {},
   "outputs": [],
   "source": [
    "# Ordinal Encoder [[\"policy_type\"]] As for the insurance company, corporate and special are higher value\n",
    "scale_mapper = {\"Personal Auto\":1, \"Corporate Auto\":2, \"Special Auto\":3}\n",
    "#TRAIN ++++++++++++++++++++++++++++++++++++++++++++++++++++++\n",
    "X_train_cat[\"policy_type\"] = X_train_cat[[\"policy_type\"]].replace(scale_mapper)\n",
    "pol_ty_ord_tr = X_train_cat[\"policy_type\"]\n",
    "#TEST ++++++++++++++++++++++++++++++++++++++++++++++++++++++\n",
    "X_test_cat[\"policy_type\"] = X_test_cat[[\"policy_type\"]].replace(scale_mapper)\n",
    "pol_ty_ord_ts = X_test_cat[\"policy_type\"]"
   ]
  },
  {
   "cell_type": "code",
   "execution_count": 64,
   "metadata": {},
   "outputs": [
    {
     "data": {
      "text/plain": [
       "L3    3434\n",
       "L2    2171\n",
       "L1    1245\n",
       "Name: policy_coverage, dtype: int64"
      ]
     },
     "execution_count": 64,
     "metadata": {},
     "output_type": "execute_result"
    }
   ],
   "source": [
    "X_train_cat[\"policy_coverage\"].value_counts()"
   ]
  },
  {
   "cell_type": "markdown",
   "metadata": {},
   "source": [
    "\"In selected countries, third-party liability covers a third party inside or outside the vehicle; it covers property damage (L1) or bodily injury (L2). The coverage for bodily injury due to an intoxicated driver (L3) is included in L2. Spousal liability (L4) covers the liability of death or injury to the spouse.\n",
    "\n"
   ]
  },
  {
   "cell_type": "code",
   "execution_count": 75,
   "metadata": {},
   "outputs": [],
   "source": [
    "# Ordinal Encoder [[\"policy_coverage\"]] As for the insurance company L1 property damage, L2 body injury , L3 DUI \n",
    "scale_mapper = {\"L3\":1, \"L2\":2, \"L1\":3}\n",
    "#TRAIN ++++++++++++++++++++++++++++++++++++++++++++++++++++++\n",
    "X_train_cat[\"policy_coverage\"] = X_train_cat[[\"policy_coverage\"]].replace(scale_mapper)\n",
    "pol_co_ord_tr = X_train_cat[\"policy_type\"]\n",
    "#TEST ++++++++++++++++++++++++++++++++++++++++++++++++++++++\n",
    "X_test_cat[\"policy_coverage\"] = X_test_cat[[\"policy_coverage\"]].replace(scale_mapper)\n",
    "pol_co_ord_ts = X_test_cat[\"policy_coverage\"]"
   ]
  },
  {
   "cell_type": "code",
   "execution_count": 76,
   "metadata": {},
   "outputs": [
    {
     "data": {
      "text/html": [
       "<div>\n",
       "<style scoped>\n",
       "    .dataframe tbody tr th:only-of-type {\n",
       "        vertical-align: middle;\n",
       "    }\n",
       "\n",
       "    .dataframe tbody tr th {\n",
       "        vertical-align: top;\n",
       "    }\n",
       "\n",
       "    .dataframe thead th {\n",
       "        text-align: right;\n",
       "    }\n",
       "</style>\n",
       "<table border=\"1\" class=\"dataframe\">\n",
       "  <thead>\n",
       "    <tr style=\"text-align: right;\">\n",
       "      <th></th>\n",
       "      <th>index</th>\n",
       "      <th>months_since_last_claim</th>\n",
       "      <th>months_since_policy_inception</th>\n",
       "      <th>number_of_open_complaints</th>\n",
       "      <th>number_of_policies</th>\n",
       "      <th>customer_lifetime_value</th>\n",
       "      <th>income</th>\n",
       "      <th>monthly_premium_auto</th>\n",
       "    </tr>\n",
       "  </thead>\n",
       "  <tbody>\n",
       "    <tr>\n",
       "      <th>0</th>\n",
       "      <td>0</td>\n",
       "      <td>0.028571</td>\n",
       "      <td>0.020202</td>\n",
       "      <td>0.0</td>\n",
       "      <td>0.125</td>\n",
       "      <td>1.000948</td>\n",
       "      <td>0.994506</td>\n",
       "      <td>0.523571</td>\n",
       "    </tr>\n",
       "    <tr>\n",
       "      <th>1</th>\n",
       "      <td>1</td>\n",
       "      <td>0.200000</td>\n",
       "      <td>0.505051</td>\n",
       "      <td>0.0</td>\n",
       "      <td>0.000</td>\n",
       "      <td>-0.812382</td>\n",
       "      <td>1.341416</td>\n",
       "      <td>-0.555128</td>\n",
       "    </tr>\n",
       "    <tr>\n",
       "      <th>2</th>\n",
       "      <td>2</td>\n",
       "      <td>0.485714</td>\n",
       "      <td>0.080808</td>\n",
       "      <td>0.0</td>\n",
       "      <td>0.125</td>\n",
       "      <td>3.813472</td>\n",
       "      <td>-0.300685</td>\n",
       "      <td>0.643426</td>\n",
       "    </tr>\n",
       "    <tr>\n",
       "      <th>3</th>\n",
       "      <td>3</td>\n",
       "      <td>0.457143</td>\n",
       "      <td>0.252525</td>\n",
       "      <td>0.2</td>\n",
       "      <td>0.500</td>\n",
       "      <td>-0.430244</td>\n",
       "      <td>2.027444</td>\n",
       "      <td>-0.854766</td>\n",
       "    </tr>\n",
       "    <tr>\n",
       "      <th>4</th>\n",
       "      <td>4</td>\n",
       "      <td>1.000000</td>\n",
       "      <td>0.525253</td>\n",
       "      <td>0.6</td>\n",
       "      <td>0.500</td>\n",
       "      <td>-0.557801</td>\n",
       "      <td>-1.241372</td>\n",
       "      <td>-0.585092</td>\n",
       "    </tr>\n",
       "    <tr>\n",
       "      <th>...</th>\n",
       "      <td>...</td>\n",
       "      <td>...</td>\n",
       "      <td>...</td>\n",
       "      <td>...</td>\n",
       "      <td>...</td>\n",
       "      <td>...</td>\n",
       "      <td>...</td>\n",
       "      <td>...</td>\n",
       "    </tr>\n",
       "    <tr>\n",
       "      <th>2279</th>\n",
       "      <td>2279</td>\n",
       "      <td>0.171429</td>\n",
       "      <td>0.191919</td>\n",
       "      <td>0.0</td>\n",
       "      <td>0.125</td>\n",
       "      <td>-0.038590</td>\n",
       "      <td>-0.016672</td>\n",
       "      <td>0.001340</td>\n",
       "    </tr>\n",
       "    <tr>\n",
       "      <th>2280</th>\n",
       "      <td>2280</td>\n",
       "      <td>0.428571</td>\n",
       "      <td>0.434343</td>\n",
       "      <td>0.0</td>\n",
       "      <td>0.375</td>\n",
       "      <td>-0.038590</td>\n",
       "      <td>-0.016672</td>\n",
       "      <td>0.001340</td>\n",
       "    </tr>\n",
       "    <tr>\n",
       "      <th>2281</th>\n",
       "      <td>2281</td>\n",
       "      <td>0.514286</td>\n",
       "      <td>0.474747</td>\n",
       "      <td>0.0</td>\n",
       "      <td>0.125</td>\n",
       "      <td>-0.038590</td>\n",
       "      <td>-0.016672</td>\n",
       "      <td>0.001340</td>\n",
       "    </tr>\n",
       "    <tr>\n",
       "      <th>2282</th>\n",
       "      <td>2282</td>\n",
       "      <td>0.485714</td>\n",
       "      <td>0.656566</td>\n",
       "      <td>0.8</td>\n",
       "      <td>0.000</td>\n",
       "      <td>-0.038590</td>\n",
       "      <td>-0.016672</td>\n",
       "      <td>0.001340</td>\n",
       "    </tr>\n",
       "    <tr>\n",
       "      <th>2283</th>\n",
       "      <td>2283</td>\n",
       "      <td>0.114286</td>\n",
       "      <td>0.181818</td>\n",
       "      <td>0.0</td>\n",
       "      <td>0.000</td>\n",
       "      <td>-0.038590</td>\n",
       "      <td>-0.016672</td>\n",
       "      <td>0.001340</td>\n",
       "    </tr>\n",
       "  </tbody>\n",
       "</table>\n",
       "<p>2284 rows × 8 columns</p>\n",
       "</div>"
      ],
      "text/plain": [
       "      index  months_since_last_claim  months_since_policy_inception  \\\n",
       "0         0                 0.028571                       0.020202   \n",
       "1         1                 0.200000                       0.505051   \n",
       "2         2                 0.485714                       0.080808   \n",
       "3         3                 0.457143                       0.252525   \n",
       "4         4                 1.000000                       0.525253   \n",
       "...     ...                      ...                            ...   \n",
       "2279   2279                 0.171429                       0.191919   \n",
       "2280   2280                 0.428571                       0.434343   \n",
       "2281   2281                 0.514286                       0.474747   \n",
       "2282   2282                 0.485714                       0.656566   \n",
       "2283   2283                 0.114286                       0.181818   \n",
       "\n",
       "      number_of_open_complaints  number_of_policies  customer_lifetime_value  \\\n",
       "0                           0.0               0.125                 1.000948   \n",
       "1                           0.0               0.000                -0.812382   \n",
       "2                           0.0               0.125                 3.813472   \n",
       "3                           0.2               0.500                -0.430244   \n",
       "4                           0.6               0.500                -0.557801   \n",
       "...                         ...                 ...                      ...   \n",
       "2279                        0.0               0.125                -0.038590   \n",
       "2280                        0.0               0.375                -0.038590   \n",
       "2281                        0.0               0.125                -0.038590   \n",
       "2282                        0.8               0.000                -0.038590   \n",
       "2283                        0.0               0.000                -0.038590   \n",
       "\n",
       "        income  monthly_premium_auto  \n",
       "0     0.994506              0.523571  \n",
       "1     1.341416             -0.555128  \n",
       "2    -0.300685              0.643426  \n",
       "3     2.027444             -0.854766  \n",
       "4    -1.241372             -0.585092  \n",
       "...        ...                   ...  \n",
       "2279 -0.016672              0.001340  \n",
       "2280 -0.016672              0.001340  \n",
       "2281 -0.016672              0.001340  \n",
       "2282 -0.016672              0.001340  \n",
       "2283 -0.016672              0.001340  \n",
       "\n",
       "[2284 rows x 8 columns]"
      ]
     },
     "execution_count": 76,
     "metadata": {},
     "output_type": "execute_result"
    }
   ],
   "source": [
    "X_train_cat.reset_index()\n",
    "X_test_cat.reset_index()\n",
    "data_num_train.reset_index()\n",
    "data_num_test.reset_index()"
   ]
  },
  {
   "cell_type": "code",
   "execution_count": 78,
   "metadata": {},
   "outputs": [],
   "source": [
    "data_train = pd.concat([X_train_cat, data_num_train], axis=1)\n",
    "data_test = pd.concat([X_test_cat, data_num_test], axis=1)"
   ]
  },
  {
   "cell_type": "code",
   "execution_count": 79,
   "metadata": {},
   "outputs": [
    {
     "data": {
      "text/plain": [
       "coverage                         0\n",
       "employmentstatus                 0\n",
       "location_code                    0\n",
       "policy_type                      0\n",
       "vehicle_size                     0\n",
       "policy_coverage                  0\n",
       "California                       0\n",
       "Oregon                           0\n",
       "Arizona                          0\n",
       "Nevada                           0\n",
       "Graduate or higher               0\n",
       "College                          0\n",
       "gender                           0\n",
       "Married                          0\n",
       "Single                           0\n",
       "Offer1                           0\n",
       "Offer2                           0\n",
       "Offer3                           0\n",
       "Agent                            0\n",
       "Branch                           0\n",
       "Call Center                      0\n",
       "vehicle_class                    0\n",
       "months_since_last_claim          0\n",
       "months_since_policy_inception    0\n",
       "number_of_open_complaints        0\n",
       "number_of_policies               0\n",
       "customer_lifetime_value          0\n",
       "income                           0\n",
       "monthly_premium_auto             0\n",
       "dtype: int64"
      ]
     },
     "execution_count": 79,
     "metadata": {},
     "output_type": "execute_result"
    }
   ],
   "source": [
    "data_train.isna().sum()"
   ]
  },
  {
   "cell_type": "code",
   "execution_count": 80,
   "metadata": {},
   "outputs": [
    {
     "data": {
      "text/plain": [
       "coverage                         0\n",
       "employmentstatus                 0\n",
       "location_code                    0\n",
       "policy_type                      0\n",
       "vehicle_size                     0\n",
       "policy_coverage                  0\n",
       "California                       0\n",
       "Oregon                           0\n",
       "Arizona                          0\n",
       "Nevada                           0\n",
       "Graduate or higher               0\n",
       "College                          0\n",
       "gender                           0\n",
       "Married                          0\n",
       "Single                           0\n",
       "Offer1                           0\n",
       "Offer2                           0\n",
       "Offer3                           0\n",
       "Agent                            0\n",
       "Branch                           0\n",
       "Call Center                      0\n",
       "vehicle_class                    0\n",
       "months_since_last_claim          0\n",
       "months_since_policy_inception    0\n",
       "number_of_open_complaints        0\n",
       "number_of_policies               0\n",
       "customer_lifetime_value          0\n",
       "income                           0\n",
       "monthly_premium_auto             0\n",
       "dtype: int64"
      ]
     },
     "execution_count": 80,
     "metadata": {},
     "output_type": "execute_result"
    }
   ],
   "source": [
    "data_test.isna().sum()"
   ]
  },
  {
   "cell_type": "code",
   "execution_count": 104,
   "metadata": {},
   "outputs": [],
   "source": [
    "!git add . \n"
   ]
  },
  {
   "cell_type": "code",
   "execution_count": null,
   "metadata": {},
   "outputs": [],
   "source": []
  }
 ],
 "metadata": {
  "kernelspec": {
   "display_name": "Python 3 (ipykernel)",
   "language": "python",
   "name": "python3"
  },
  "language_info": {
   "codemirror_mode": {
    "name": "ipython",
    "version": 3
   },
   "file_extension": ".py",
   "mimetype": "text/x-python",
   "name": "python",
   "nbconvert_exporter": "python",
   "pygments_lexer": "ipython3",
   "version": "3.9.7"
  }
 },
 "nbformat": 4,
 "nbformat_minor": 4
}
